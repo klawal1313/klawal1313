{
  "nbformat": 4,
  "nbformat_minor": 0,
  "metadata": {
    "colab": {
      "name": "Kebbi_Flood_Prediction.ipynb",
      "provenance": [],
      "collapsed_sections": [],
      "authorship_tag": "ABX9TyOfEkyZh556w+jIMSKzrV/7",
      "include_colab_link": true
    },
    "kernelspec": {
      "name": "python3",
      "display_name": "Python 3"
    },
    "language_info": {
      "name": "python"
    }
  },
  "cells": [
    {
      "cell_type": "markdown",
      "metadata": {
        "id": "view-in-github",
        "colab_type": "text"
      },
      "source": [
        "<a href=\"https://colab.research.google.com/github/klawal1313/klawal1313/blob/main/Kebbi_Flood_Prediction.ipynb\" target=\"_parent\"><img src=\"https://colab.research.google.com/assets/colab-badge.svg\" alt=\"Open In Colab\"/></a>"
      ]
    },
    {
      "cell_type": "code",
      "metadata": {
        "id": "uYdldTARZ1Xo"
      },
      "source": [
        "import numpy as np \n",
        "import pandas as pd"
      ],
      "execution_count": 1,
      "outputs": []
    },
    {
      "cell_type": "code",
      "metadata": {
        "colab": {
          "resources": {
            "http://localhost:8080/nbextensions/google.colab/files.js": {
              "data": "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",
              "ok": true,
              "headers": [
                [
                  "content-type",
                  "application/javascript"
                ]
              ],
              "status": 200,
              "status_text": "OK"
            }
          },
          "base_uri": "https://localhost:8080/",
          "height": 75
        },
        "id": "HNNqkLE0aAr-",
        "outputId": "c01fe115-52ca-4341-823a-b18eb1c49a72"
      },
      "source": [
        "from google.colab import files\n",
        "uploaded = files.upload()"
      ],
      "execution_count": 2,
      "outputs": [
        {
          "output_type": "display_data",
          "data": {
            "text/html": [
              "\n",
              "     <input type=\"file\" id=\"files-1d65e3ac-47ca-40c0-87cf-67feae8e6980\" name=\"files[]\" multiple disabled\n",
              "        style=\"border:none\" />\n",
              "     <output id=\"result-1d65e3ac-47ca-40c0-87cf-67feae8e6980\">\n",
              "      Upload widget is only available when the cell has been executed in the\n",
              "      current browser session. Please rerun this cell to enable.\n",
              "      </output>\n",
              "      <script src=\"/nbextensions/google.colab/files.js\"></script> "
            ],
            "text/plain": [
              "<IPython.core.display.HTML object>"
            ]
          },
          "metadata": {}
        },
        {
          "output_type": "stream",
          "name": "stdout",
          "text": [
            "Saving kebbi_yelwa.csv to kebbi_yelwa.csv\n"
          ]
        }
      ]
    },
    {
      "cell_type": "code",
      "metadata": {
        "colab": {
          "base_uri": "https://localhost:8080/"
        },
        "id": "h6XN8Mx4agbi",
        "outputId": "8a0d3c4d-1af4-4e7b-a8f8-49835ef7f480"
      },
      "source": [
        "data = pd.read_csv('kebbi_yelwa.csv')\n",
        "print(data)"
      ],
      "execution_count": 16,
      "outputs": [
        {
          "output_type": "stream",
          "name": "stdout",
          "text": [
            "    State  YEAR  JAN  FEB   MAR  ...  Jan-Feb  Mar-May  Jun-Sep  Oct-Dec  Floods\n",
            "0   Kebbi  1981    0    0   1.0  ...        0    108.2    787.3      0.4      NO\n",
            "1   Kebbi  1982    0    0  74.6  ...        0    248.0    780.8     42.8     YES\n",
            "2   Kebbi  1982    0    0   0.0  ...        0    135.7    427.8      0.0      NO\n",
            "3   Kebbi  1984    0    0  22.1  ...        0    245.4    373.0      0.0      NO\n",
            "4   Kebbi  1985    0    0  42.2  ...        0     81.9    700.5     10.3      NO\n",
            "5   Kebbi  1986    0    0   5.8  ...        0     42.7    898.6     66.9     YES\n",
            "6   Kebbi  1987    0    0   6.2  ...        0     39.0    514.5     37.3      NO\n",
            "7   Kebbi  1988    0    0   0.0  ...        0     52.8    860.7      1.5      NO\n",
            "8   Kebbi  1989    0    0   0.0  ...        0     75.5    749.6     78.2      NO\n",
            "9   Kebbi  1990    0    0   0.0  ...        0    117.2    634.3      0.0      NO\n",
            "10  Kebbi  1991    0    0   3.4  ...        0    327.6    711.9      0.0     YES\n",
            "11  Kebbi  1992    0    0   0.0  ...        0    139.7    888.7      0.0     YES\n",
            "12  Kebbi  1993    0    0   0.0  ...        0    153.8    668.4     90.6      NO\n",
            "13  Kebbi  1994    0    0   7.5  ...        0    159.5   1191.9    185.9     YES\n",
            "14  Kebbi  1995    0    0   7.8  ...        0    182.4    920.4     85.9     YES\n",
            "15  Kebbi  1996    0    0   0.0  ...        0    126.3    710.2     48.7      NO\n",
            "16  Kebbi  1997    0    0   0.0  ...        0    157.4    822.2    217.3     YES\n",
            "17  Kebbi  1998    0    0   0.0  ...        0    133.6    625.6     73.8      NO\n",
            "18  Kebbi  1999    0    0   0.0  ...        0     94.5   1303.0    167.1     YES\n",
            "19  Kebbi  2000    0    0   0.0  ...        0    103.1    821.8     73.9     YES\n",
            "20  Kebbi  2001    0    0   0.0  ...        0    167.1    982.3     40.0     YES\n",
            "21  Kebbi  2002    0    0   0.0  ...        0     63.2    688.6    168.5      NO\n",
            "22  Kebbi  2003    0    0   3.4  ...        0    118.4    530.9     45.0      NO\n",
            "23  Kebbi  2004    0    0   0.4  ...        0    150.4    778.6      7.9      NO\n",
            "24  Kebbi  2005    0    0   5.0  ...        0    108.3    834.7     61.3     YES\n",
            "25  Kebbi  2006    0    0   0.0  ...        0    149.8    856.2     45.0     YES\n",
            "26  Kebbi  2007    0    0   0.0  ...        0    183.6    707.4      0.0      NO\n",
            "27  Kebbi  2008    0    0   0.0  ...        0    154.3   1028.5    139.3     YES\n",
            "28  Kebbi  2009    0    0   0.0  ...        0    156.5    998.3     36.0     YES\n",
            "29  Kebbi  2010    0    0   0.0  ...        0    121.8    895.6    109.6     YES\n",
            "30  Kebbi  2011    0    0   0.0  ...        0     48.1    823.1    134.6     YES\n",
            "31  Kebbi  2012    0    0  28.0  ...        0    252.9    658.1     41.2      NO\n",
            "32  Kebbi  2013    0    0   0.0  ...        0     89.8    467.5    134.6      NO\n",
            "\n",
            "[33 rows x 20 columns]\n"
          ]
        }
      ]
    },
    {
      "cell_type": "code",
      "metadata": {
        "colab": {
          "base_uri": "https://localhost:8080/",
          "height": 206
        },
        "id": "hsNsxZdqa0xB",
        "outputId": "b6e9656d-4e03-4039-b53a-2c588bf6076f"
      },
      "source": [
        "data.head()"
      ],
      "execution_count": 17,
      "outputs": [
        {
          "output_type": "execute_result",
          "data": {
            "text/html": [
              "<div>\n",
              "<style scoped>\n",
              "    .dataframe tbody tr th:only-of-type {\n",
              "        vertical-align: middle;\n",
              "    }\n",
              "\n",
              "    .dataframe tbody tr th {\n",
              "        vertical-align: top;\n",
              "    }\n",
              "\n",
              "    .dataframe thead th {\n",
              "        text-align: right;\n",
              "    }\n",
              "</style>\n",
              "<table border=\"1\" class=\"dataframe\">\n",
              "  <thead>\n",
              "    <tr style=\"text-align: right;\">\n",
              "      <th></th>\n",
              "      <th>State</th>\n",
              "      <th>YEAR</th>\n",
              "      <th>JAN</th>\n",
              "      <th>FEB</th>\n",
              "      <th>MAR</th>\n",
              "      <th>APR</th>\n",
              "      <th>MAY</th>\n",
              "      <th>JUN</th>\n",
              "      <th>JUL</th>\n",
              "      <th>AUG</th>\n",
              "      <th>SEP</th>\n",
              "      <th>OCT</th>\n",
              "      <th>NOV</th>\n",
              "      <th>DEC</th>\n",
              "      <th>ANNUAL</th>\n",
              "      <th>Jan-Feb</th>\n",
              "      <th>Mar-May</th>\n",
              "      <th>Jun-Sep</th>\n",
              "      <th>Oct-Dec</th>\n",
              "      <th>Floods</th>\n",
              "    </tr>\n",
              "  </thead>\n",
              "  <tbody>\n",
              "    <tr>\n",
              "      <th>0</th>\n",
              "      <td>Kebbi</td>\n",
              "      <td>1981</td>\n",
              "      <td>0</td>\n",
              "      <td>0</td>\n",
              "      <td>1.0</td>\n",
              "      <td>22.3</td>\n",
              "      <td>84.9</td>\n",
              "      <td>116.6</td>\n",
              "      <td>387.9</td>\n",
              "      <td>184.1</td>\n",
              "      <td>98.7</td>\n",
              "      <td>0.4</td>\n",
              "      <td>0.0</td>\n",
              "      <td>0.0</td>\n",
              "      <td>895.9</td>\n",
              "      <td>0</td>\n",
              "      <td>108.2</td>\n",
              "      <td>787.3</td>\n",
              "      <td>0.4</td>\n",
              "      <td>NO</td>\n",
              "    </tr>\n",
              "    <tr>\n",
              "      <th>1</th>\n",
              "      <td>Kebbi</td>\n",
              "      <td>1982</td>\n",
              "      <td>0</td>\n",
              "      <td>0</td>\n",
              "      <td>74.6</td>\n",
              "      <td>74.9</td>\n",
              "      <td>98.5</td>\n",
              "      <td>92.2</td>\n",
              "      <td>199.7</td>\n",
              "      <td>344.9</td>\n",
              "      <td>144.0</td>\n",
              "      <td>42.8</td>\n",
              "      <td>0.0</td>\n",
              "      <td>0.0</td>\n",
              "      <td>1071.6</td>\n",
              "      <td>0</td>\n",
              "      <td>248.0</td>\n",
              "      <td>780.8</td>\n",
              "      <td>42.8</td>\n",
              "      <td>YES</td>\n",
              "    </tr>\n",
              "    <tr>\n",
              "      <th>2</th>\n",
              "      <td>Kebbi</td>\n",
              "      <td>1982</td>\n",
              "      <td>0</td>\n",
              "      <td>0</td>\n",
              "      <td>0.0</td>\n",
              "      <td>11.4</td>\n",
              "      <td>124.3</td>\n",
              "      <td>59.3</td>\n",
              "      <td>128.9</td>\n",
              "      <td>137.0</td>\n",
              "      <td>102.6</td>\n",
              "      <td>0.0</td>\n",
              "      <td>0.0</td>\n",
              "      <td>0.0</td>\n",
              "      <td>563.5</td>\n",
              "      <td>0</td>\n",
              "      <td>135.7</td>\n",
              "      <td>427.8</td>\n",
              "      <td>0.0</td>\n",
              "      <td>NO</td>\n",
              "    </tr>\n",
              "    <tr>\n",
              "      <th>3</th>\n",
              "      <td>Kebbi</td>\n",
              "      <td>1984</td>\n",
              "      <td>0</td>\n",
              "      <td>0</td>\n",
              "      <td>22.1</td>\n",
              "      <td>33.3</td>\n",
              "      <td>190.0</td>\n",
              "      <td>137.1</td>\n",
              "      <td>34.4</td>\n",
              "      <td>181.6</td>\n",
              "      <td>19.9</td>\n",
              "      <td>0.0</td>\n",
              "      <td>0.0</td>\n",
              "      <td>0.0</td>\n",
              "      <td>618.4</td>\n",
              "      <td>0</td>\n",
              "      <td>245.4</td>\n",
              "      <td>373.0</td>\n",
              "      <td>0.0</td>\n",
              "      <td>NO</td>\n",
              "    </tr>\n",
              "    <tr>\n",
              "      <th>4</th>\n",
              "      <td>Kebbi</td>\n",
              "      <td>1985</td>\n",
              "      <td>0</td>\n",
              "      <td>0</td>\n",
              "      <td>42.2</td>\n",
              "      <td>0.0</td>\n",
              "      <td>39.7</td>\n",
              "      <td>86.4</td>\n",
              "      <td>283.7</td>\n",
              "      <td>170.3</td>\n",
              "      <td>160.1</td>\n",
              "      <td>10.3</td>\n",
              "      <td>0.0</td>\n",
              "      <td>0.0</td>\n",
              "      <td>792.7</td>\n",
              "      <td>0</td>\n",
              "      <td>81.9</td>\n",
              "      <td>700.5</td>\n",
              "      <td>10.3</td>\n",
              "      <td>NO</td>\n",
              "    </tr>\n",
              "  </tbody>\n",
              "</table>\n",
              "</div>"
            ],
            "text/plain": [
              "   State  YEAR  JAN  FEB   MAR  ...  Jan-Feb  Mar-May  Jun-Sep  Oct-Dec  Floods\n",
              "0  Kebbi  1981    0    0   1.0  ...        0    108.2    787.3      0.4      NO\n",
              "1  Kebbi  1982    0    0  74.6  ...        0    248.0    780.8     42.8     YES\n",
              "2  Kebbi  1982    0    0   0.0  ...        0    135.7    427.8      0.0      NO\n",
              "3  Kebbi  1984    0    0  22.1  ...        0    245.4    373.0      0.0      NO\n",
              "4  Kebbi  1985    0    0  42.2  ...        0     81.9    700.5     10.3      NO\n",
              "\n",
              "[5 rows x 20 columns]"
            ]
          },
          "metadata": {},
          "execution_count": 17
        }
      ]
    },
    {
      "cell_type": "code",
      "metadata": {
        "colab": {
          "base_uri": "https://localhost:8080/",
          "height": 206
        },
        "id": "MaoeZ_7Ba7zQ",
        "outputId": "43aac5a7-7891-4c48-f451-75243280840c"
      },
      "source": [
        "data.tail()"
      ],
      "execution_count": 18,
      "outputs": [
        {
          "output_type": "execute_result",
          "data": {
            "text/html": [
              "<div>\n",
              "<style scoped>\n",
              "    .dataframe tbody tr th:only-of-type {\n",
              "        vertical-align: middle;\n",
              "    }\n",
              "\n",
              "    .dataframe tbody tr th {\n",
              "        vertical-align: top;\n",
              "    }\n",
              "\n",
              "    .dataframe thead th {\n",
              "        text-align: right;\n",
              "    }\n",
              "</style>\n",
              "<table border=\"1\" class=\"dataframe\">\n",
              "  <thead>\n",
              "    <tr style=\"text-align: right;\">\n",
              "      <th></th>\n",
              "      <th>State</th>\n",
              "      <th>YEAR</th>\n",
              "      <th>JAN</th>\n",
              "      <th>FEB</th>\n",
              "      <th>MAR</th>\n",
              "      <th>APR</th>\n",
              "      <th>MAY</th>\n",
              "      <th>JUN</th>\n",
              "      <th>JUL</th>\n",
              "      <th>AUG</th>\n",
              "      <th>SEP</th>\n",
              "      <th>OCT</th>\n",
              "      <th>NOV</th>\n",
              "      <th>DEC</th>\n",
              "      <th>ANNUAL</th>\n",
              "      <th>Jan-Feb</th>\n",
              "      <th>Mar-May</th>\n",
              "      <th>Jun-Sep</th>\n",
              "      <th>Oct-Dec</th>\n",
              "      <th>Floods</th>\n",
              "    </tr>\n",
              "  </thead>\n",
              "  <tbody>\n",
              "    <tr>\n",
              "      <th>28</th>\n",
              "      <td>Kebbi</td>\n",
              "      <td>2009</td>\n",
              "      <td>0</td>\n",
              "      <td>0</td>\n",
              "      <td>0.0</td>\n",
              "      <td>84.9</td>\n",
              "      <td>71.6</td>\n",
              "      <td>137.4</td>\n",
              "      <td>226.6</td>\n",
              "      <td>440.2</td>\n",
              "      <td>194.1</td>\n",
              "      <td>36.0</td>\n",
              "      <td>0.0</td>\n",
              "      <td>0.0</td>\n",
              "      <td>1190.8</td>\n",
              "      <td>0</td>\n",
              "      <td>156.5</td>\n",
              "      <td>998.3</td>\n",
              "      <td>36.0</td>\n",
              "      <td>YES</td>\n",
              "    </tr>\n",
              "    <tr>\n",
              "      <th>29</th>\n",
              "      <td>Kebbi</td>\n",
              "      <td>2010</td>\n",
              "      <td>0</td>\n",
              "      <td>0</td>\n",
              "      <td>0.0</td>\n",
              "      <td>3.6</td>\n",
              "      <td>118.2</td>\n",
              "      <td>121.6</td>\n",
              "      <td>261.2</td>\n",
              "      <td>355.0</td>\n",
              "      <td>157.8</td>\n",
              "      <td>109.6</td>\n",
              "      <td>0.0</td>\n",
              "      <td>0.0</td>\n",
              "      <td>1127.0</td>\n",
              "      <td>0</td>\n",
              "      <td>121.8</td>\n",
              "      <td>895.6</td>\n",
              "      <td>109.6</td>\n",
              "      <td>YES</td>\n",
              "    </tr>\n",
              "    <tr>\n",
              "      <th>30</th>\n",
              "      <td>Kebbi</td>\n",
              "      <td>2011</td>\n",
              "      <td>0</td>\n",
              "      <td>0</td>\n",
              "      <td>0.0</td>\n",
              "      <td>11.2</td>\n",
              "      <td>36.9</td>\n",
              "      <td>99.1</td>\n",
              "      <td>194.7</td>\n",
              "      <td>312.1</td>\n",
              "      <td>217.2</td>\n",
              "      <td>134.6</td>\n",
              "      <td>0.0</td>\n",
              "      <td>0.0</td>\n",
              "      <td>1005.8</td>\n",
              "      <td>0</td>\n",
              "      <td>48.1</td>\n",
              "      <td>823.1</td>\n",
              "      <td>134.6</td>\n",
              "      <td>YES</td>\n",
              "    </tr>\n",
              "    <tr>\n",
              "      <th>31</th>\n",
              "      <td>Kebbi</td>\n",
              "      <td>2012</td>\n",
              "      <td>0</td>\n",
              "      <td>0</td>\n",
              "      <td>28.0</td>\n",
              "      <td>56.8</td>\n",
              "      <td>168.1</td>\n",
              "      <td>50.3</td>\n",
              "      <td>254.3</td>\n",
              "      <td>163.3</td>\n",
              "      <td>190.2</td>\n",
              "      <td>41.2</td>\n",
              "      <td>0.0</td>\n",
              "      <td>0.0</td>\n",
              "      <td>952.2</td>\n",
              "      <td>0</td>\n",
              "      <td>252.9</td>\n",
              "      <td>658.1</td>\n",
              "      <td>41.2</td>\n",
              "      <td>NO</td>\n",
              "    </tr>\n",
              "    <tr>\n",
              "      <th>32</th>\n",
              "      <td>Kebbi</td>\n",
              "      <td>2013</td>\n",
              "      <td>0</td>\n",
              "      <td>0</td>\n",
              "      <td>0.0</td>\n",
              "      <td>1.2</td>\n",
              "      <td>88.6</td>\n",
              "      <td>160.1</td>\n",
              "      <td>53.2</td>\n",
              "      <td>224.9</td>\n",
              "      <td>29.3</td>\n",
              "      <td>134.6</td>\n",
              "      <td>0.0</td>\n",
              "      <td>0.0</td>\n",
              "      <td>691.9</td>\n",
              "      <td>0</td>\n",
              "      <td>89.8</td>\n",
              "      <td>467.5</td>\n",
              "      <td>134.6</td>\n",
              "      <td>NO</td>\n",
              "    </tr>\n",
              "  </tbody>\n",
              "</table>\n",
              "</div>"
            ],
            "text/plain": [
              "    State  YEAR  JAN  FEB   MAR  ...  Jan-Feb  Mar-May  Jun-Sep  Oct-Dec  Floods\n",
              "28  Kebbi  2009    0    0   0.0  ...        0    156.5    998.3     36.0     YES\n",
              "29  Kebbi  2010    0    0   0.0  ...        0    121.8    895.6    109.6     YES\n",
              "30  Kebbi  2011    0    0   0.0  ...        0     48.1    823.1    134.6     YES\n",
              "31  Kebbi  2012    0    0  28.0  ...        0    252.9    658.1     41.2      NO\n",
              "32  Kebbi  2013    0    0   0.0  ...        0     89.8    467.5    134.6      NO\n",
              "\n",
              "[5 rows x 20 columns]"
            ]
          },
          "metadata": {},
          "execution_count": 18
        }
      ]
    },
    {
      "cell_type": "code",
      "metadata": {
        "colab": {
          "base_uri": "https://localhost:8080/"
        },
        "id": "_V0ZYusebPMR",
        "outputId": "a2b2bb3e-089e-4a47-b6fc-85c0a5001faa"
      },
      "source": [
        "data.isnull().sum()  # cheaking if any colomns is left empty or not."
      ],
      "execution_count": 19,
      "outputs": [
        {
          "output_type": "execute_result",
          "data": {
            "text/plain": [
              "State      0\n",
              "YEAR       0\n",
              "JAN        0\n",
              "FEB        0\n",
              "MAR        0\n",
              "APR        0\n",
              "MAY        0\n",
              "JUN        0\n",
              "JUL        0\n",
              "AUG        0\n",
              "SEP        0\n",
              "OCT        0\n",
              "NOV        0\n",
              "DEC        0\n",
              "ANNUAL     0\n",
              "Jan-Feb    0\n",
              "Mar-May    0\n",
              "Jun-Sep    0\n",
              "Oct-Dec    0\n",
              "Floods     0\n",
              "dtype: int64"
            ]
          },
          "metadata": {},
          "execution_count": 19
        }
      ]
    },
    {
      "cell_type": "code",
      "metadata": {
        "id": "hpJcHcAPcRKH"
      },
      "source": [
        "#Analyzing the Dataset"
      ],
      "execution_count": null,
      "outputs": []
    },
    {
      "cell_type": "code",
      "metadata": {
        "colab": {
          "base_uri": "https://localhost:8080/"
        },
        "id": "Qhs8WwVYbTVB",
        "outputId": "2ba895da-e0e6-4775-cf52-48cf8aaf4263"
      },
      "source": [
        "\n",
        "print(data.shape)"
      ],
      "execution_count": 20,
      "outputs": [
        {
          "output_type": "stream",
          "name": "stdout",
          "text": [
            "(33, 20)\n"
          ]
        }
      ]
    },
    {
      "cell_type": "code",
      "metadata": {
        "colab": {
          "base_uri": "https://localhost:8080/",
          "height": 338
        },
        "id": "0iYVjI1EcHyQ",
        "outputId": "1ac0215b-153a-479c-cade-4c2db66b6868"
      },
      "source": [
        "data.describe()"
      ],
      "execution_count": 21,
      "outputs": [
        {
          "output_type": "execute_result",
          "data": {
            "text/html": [
              "<div>\n",
              "<style scoped>\n",
              "    .dataframe tbody tr th:only-of-type {\n",
              "        vertical-align: middle;\n",
              "    }\n",
              "\n",
              "    .dataframe tbody tr th {\n",
              "        vertical-align: top;\n",
              "    }\n",
              "\n",
              "    .dataframe thead th {\n",
              "        text-align: right;\n",
              "    }\n",
              "</style>\n",
              "<table border=\"1\" class=\"dataframe\">\n",
              "  <thead>\n",
              "    <tr style=\"text-align: right;\">\n",
              "      <th></th>\n",
              "      <th>YEAR</th>\n",
              "      <th>JAN</th>\n",
              "      <th>FEB</th>\n",
              "      <th>MAR</th>\n",
              "      <th>APR</th>\n",
              "      <th>MAY</th>\n",
              "      <th>JUN</th>\n",
              "      <th>JUL</th>\n",
              "      <th>AUG</th>\n",
              "      <th>SEP</th>\n",
              "      <th>OCT</th>\n",
              "      <th>NOV</th>\n",
              "      <th>DEC</th>\n",
              "      <th>ANNUAL</th>\n",
              "      <th>Jan-Feb</th>\n",
              "      <th>Mar-May</th>\n",
              "      <th>Jun-Sep</th>\n",
              "      <th>Oct-Dec</th>\n",
              "    </tr>\n",
              "  </thead>\n",
              "  <tbody>\n",
              "    <tr>\n",
              "      <th>count</th>\n",
              "      <td>33.000000</td>\n",
              "      <td>33.0</td>\n",
              "      <td>33.0</td>\n",
              "      <td>33.000000</td>\n",
              "      <td>33.000000</td>\n",
              "      <td>33.000000</td>\n",
              "      <td>33.000000</td>\n",
              "      <td>33.000000</td>\n",
              "      <td>33.000000</td>\n",
              "      <td>33.000000</td>\n",
              "      <td>33.000000</td>\n",
              "      <td>33.000000</td>\n",
              "      <td>33.000000</td>\n",
              "      <td>33.000000</td>\n",
              "      <td>33.0</td>\n",
              "      <td>33.000000</td>\n",
              "      <td>33.000000</td>\n",
              "      <td>33.000000</td>\n",
              "    </tr>\n",
              "    <tr>\n",
              "      <th>mean</th>\n",
              "      <td>1996.969697</td>\n",
              "      <td>0.0</td>\n",
              "      <td>0.0</td>\n",
              "      <td>6.284848</td>\n",
              "      <td>35.366667</td>\n",
              "      <td>94.363636</td>\n",
              "      <td>141.281818</td>\n",
              "      <td>194.069697</td>\n",
              "      <td>261.045455</td>\n",
              "      <td>180.603030</td>\n",
              "      <td>57.563636</td>\n",
              "      <td>4.475758</td>\n",
              "      <td>2.918182</td>\n",
              "      <td>977.972727</td>\n",
              "      <td>0.0</td>\n",
              "      <td>136.015152</td>\n",
              "      <td>777.000000</td>\n",
              "      <td>64.957576</td>\n",
              "    </tr>\n",
              "    <tr>\n",
              "      <th>std</th>\n",
              "      <td>9.716239</td>\n",
              "      <td>0.0</td>\n",
              "      <td>0.0</td>\n",
              "      <td>15.363697</td>\n",
              "      <td>32.487629</td>\n",
              "      <td>49.932591</td>\n",
              "      <td>52.503729</td>\n",
              "      <td>77.559709</td>\n",
              "      <td>110.777909</td>\n",
              "      <td>78.669957</td>\n",
              "      <td>53.584745</td>\n",
              "      <td>17.897958</td>\n",
              "      <td>13.159679</td>\n",
              "      <td>234.885805</td>\n",
              "      <td>0.0</td>\n",
              "      <td>64.918599</td>\n",
              "      <td>201.214109</td>\n",
              "      <td>61.682960</td>\n",
              "    </tr>\n",
              "    <tr>\n",
              "      <th>min</th>\n",
              "      <td>1981.000000</td>\n",
              "      <td>0.0</td>\n",
              "      <td>0.0</td>\n",
              "      <td>0.000000</td>\n",
              "      <td>0.000000</td>\n",
              "      <td>11.400000</td>\n",
              "      <td>50.300000</td>\n",
              "      <td>0.000000</td>\n",
              "      <td>102.800000</td>\n",
              "      <td>19.900000</td>\n",
              "      <td>0.000000</td>\n",
              "      <td>0.000000</td>\n",
              "      <td>0.000000</td>\n",
              "      <td>563.500000</td>\n",
              "      <td>0.0</td>\n",
              "      <td>39.000000</td>\n",
              "      <td>373.000000</td>\n",
              "      <td>0.000000</td>\n",
              "    </tr>\n",
              "    <tr>\n",
              "      <th>25%</th>\n",
              "      <td>1989.000000</td>\n",
              "      <td>0.0</td>\n",
              "      <td>0.0</td>\n",
              "      <td>0.000000</td>\n",
              "      <td>5.000000</td>\n",
              "      <td>60.000000</td>\n",
              "      <td>113.800000</td>\n",
              "      <td>147.800000</td>\n",
              "      <td>181.600000</td>\n",
              "      <td>144.000000</td>\n",
              "      <td>7.900000</td>\n",
              "      <td>0.000000</td>\n",
              "      <td>0.000000</td>\n",
              "      <td>885.200000</td>\n",
              "      <td>0.0</td>\n",
              "      <td>94.500000</td>\n",
              "      <td>668.400000</td>\n",
              "      <td>7.900000</td>\n",
              "    </tr>\n",
              "    <tr>\n",
              "      <th>50%</th>\n",
              "      <td>1997.000000</td>\n",
              "      <td>0.0</td>\n",
              "      <td>0.0</td>\n",
              "      <td>0.000000</td>\n",
              "      <td>30.500000</td>\n",
              "      <td>89.300000</td>\n",
              "      <td>137.100000</td>\n",
              "      <td>206.400000</td>\n",
              "      <td>227.600000</td>\n",
              "      <td>180.900000</td>\n",
              "      <td>45.000000</td>\n",
              "      <td>0.000000</td>\n",
              "      <td>0.000000</td>\n",
              "      <td>952.200000</td>\n",
              "      <td>0.0</td>\n",
              "      <td>133.600000</td>\n",
              "      <td>780.800000</td>\n",
              "      <td>45.000000</td>\n",
              "    </tr>\n",
              "    <tr>\n",
              "      <th>75%</th>\n",
              "      <td>2005.000000</td>\n",
              "      <td>0.0</td>\n",
              "      <td>0.0</td>\n",
              "      <td>5.000000</td>\n",
              "      <td>51.600000</td>\n",
              "      <td>121.300000</td>\n",
              "      <td>165.100000</td>\n",
              "      <td>235.900000</td>\n",
              "      <td>330.800000</td>\n",
              "      <td>217.200000</td>\n",
              "      <td>78.200000</td>\n",
              "      <td>0.000000</td>\n",
              "      <td>0.000000</td>\n",
              "      <td>1071.600000</td>\n",
              "      <td>0.0</td>\n",
              "      <td>157.400000</td>\n",
              "      <td>888.700000</td>\n",
              "      <td>90.600000</td>\n",
              "    </tr>\n",
              "    <tr>\n",
              "      <th>max</th>\n",
              "      <td>2013.000000</td>\n",
              "      <td>0.0</td>\n",
              "      <td>0.0</td>\n",
              "      <td>74.600000</td>\n",
              "      <td>114.600000</td>\n",
              "      <td>239.300000</td>\n",
              "      <td>256.600000</td>\n",
              "      <td>387.900000</td>\n",
              "      <td>608.300000</td>\n",
              "      <td>353.300000</td>\n",
              "      <td>185.900000</td>\n",
              "      <td>75.300000</td>\n",
              "      <td>72.500000</td>\n",
              "      <td>1564.600000</td>\n",
              "      <td>0.0</td>\n",
              "      <td>327.600000</td>\n",
              "      <td>1303.000000</td>\n",
              "      <td>217.300000</td>\n",
              "    </tr>\n",
              "  </tbody>\n",
              "</table>\n",
              "</div>"
            ],
            "text/plain": [
              "              YEAR   JAN   FEB  ...     Mar-May      Jun-Sep     Oct-Dec\n",
              "count    33.000000  33.0  33.0  ...   33.000000    33.000000   33.000000\n",
              "mean   1996.969697   0.0   0.0  ...  136.015152   777.000000   64.957576\n",
              "std       9.716239   0.0   0.0  ...   64.918599   201.214109   61.682960\n",
              "min    1981.000000   0.0   0.0  ...   39.000000   373.000000    0.000000\n",
              "25%    1989.000000   0.0   0.0  ...   94.500000   668.400000    7.900000\n",
              "50%    1997.000000   0.0   0.0  ...  133.600000   780.800000   45.000000\n",
              "75%    2005.000000   0.0   0.0  ...  157.400000   888.700000   90.600000\n",
              "max    2013.000000   0.0   0.0  ...  327.600000  1303.000000  217.300000\n",
              "\n",
              "[8 rows x 18 columns]"
            ]
          },
          "metadata": {},
          "execution_count": 21
        }
      ]
    },
    {
      "cell_type": "code",
      "metadata": {
        "colab": {
          "base_uri": "https://localhost:8080/"
        },
        "id": "VhmLHg07cWFO",
        "outputId": "b955699a-3532-4ad7-f68f-2a8c02070d5b"
      },
      "source": [
        "data.info"
      ],
      "execution_count": 23,
      "outputs": [
        {
          "output_type": "execute_result",
          "data": {
            "text/plain": [
              "<bound method DataFrame.info of     State  YEAR  JAN  FEB   MAR  ...  Jan-Feb  Mar-May  Jun-Sep  Oct-Dec  Floods\n",
              "0   Kebbi  1981    0    0   1.0  ...        0    108.2    787.3      0.4      NO\n",
              "1   Kebbi  1982    0    0  74.6  ...        0    248.0    780.8     42.8     YES\n",
              "2   Kebbi  1982    0    0   0.0  ...        0    135.7    427.8      0.0      NO\n",
              "3   Kebbi  1984    0    0  22.1  ...        0    245.4    373.0      0.0      NO\n",
              "4   Kebbi  1985    0    0  42.2  ...        0     81.9    700.5     10.3      NO\n",
              "5   Kebbi  1986    0    0   5.8  ...        0     42.7    898.6     66.9     YES\n",
              "6   Kebbi  1987    0    0   6.2  ...        0     39.0    514.5     37.3      NO\n",
              "7   Kebbi  1988    0    0   0.0  ...        0     52.8    860.7      1.5      NO\n",
              "8   Kebbi  1989    0    0   0.0  ...        0     75.5    749.6     78.2      NO\n",
              "9   Kebbi  1990    0    0   0.0  ...        0    117.2    634.3      0.0      NO\n",
              "10  Kebbi  1991    0    0   3.4  ...        0    327.6    711.9      0.0     YES\n",
              "11  Kebbi  1992    0    0   0.0  ...        0    139.7    888.7      0.0     YES\n",
              "12  Kebbi  1993    0    0   0.0  ...        0    153.8    668.4     90.6      NO\n",
              "13  Kebbi  1994    0    0   7.5  ...        0    159.5   1191.9    185.9     YES\n",
              "14  Kebbi  1995    0    0   7.8  ...        0    182.4    920.4     85.9     YES\n",
              "15  Kebbi  1996    0    0   0.0  ...        0    126.3    710.2     48.7      NO\n",
              "16  Kebbi  1997    0    0   0.0  ...        0    157.4    822.2    217.3     YES\n",
              "17  Kebbi  1998    0    0   0.0  ...        0    133.6    625.6     73.8      NO\n",
              "18  Kebbi  1999    0    0   0.0  ...        0     94.5   1303.0    167.1     YES\n",
              "19  Kebbi  2000    0    0   0.0  ...        0    103.1    821.8     73.9     YES\n",
              "20  Kebbi  2001    0    0   0.0  ...        0    167.1    982.3     40.0     YES\n",
              "21  Kebbi  2002    0    0   0.0  ...        0     63.2    688.6    168.5      NO\n",
              "22  Kebbi  2003    0    0   3.4  ...        0    118.4    530.9     45.0      NO\n",
              "23  Kebbi  2004    0    0   0.4  ...        0    150.4    778.6      7.9      NO\n",
              "24  Kebbi  2005    0    0   5.0  ...        0    108.3    834.7     61.3     YES\n",
              "25  Kebbi  2006    0    0   0.0  ...        0    149.8    856.2     45.0     YES\n",
              "26  Kebbi  2007    0    0   0.0  ...        0    183.6    707.4      0.0      NO\n",
              "27  Kebbi  2008    0    0   0.0  ...        0    154.3   1028.5    139.3     YES\n",
              "28  Kebbi  2009    0    0   0.0  ...        0    156.5    998.3     36.0     YES\n",
              "29  Kebbi  2010    0    0   0.0  ...        0    121.8    895.6    109.6     YES\n",
              "30  Kebbi  2011    0    0   0.0  ...        0     48.1    823.1    134.6     YES\n",
              "31  Kebbi  2012    0    0  28.0  ...        0    252.9    658.1     41.2      NO\n",
              "32  Kebbi  2013    0    0   0.0  ...        0     89.8    467.5    134.6      NO\n",
              "\n",
              "[33 rows x 20 columns]>"
            ]
          },
          "metadata": {},
          "execution_count": 23
        }
      ]
    },
    {
      "cell_type": "code",
      "metadata": {
        "colab": {
          "base_uri": "https://localhost:8080/",
          "height": 703
        },
        "id": "lcsYDlVWcazf",
        "outputId": "72c39b71-bc70-4f55-d625-3b08fb9ddcbe"
      },
      "source": [
        "data.cov()"
      ],
      "execution_count": 24,
      "outputs": [
        {
          "output_type": "execute_result",
          "data": {
            "text/html": [
              "<div>\n",
              "<style scoped>\n",
              "    .dataframe tbody tr th:only-of-type {\n",
              "        vertical-align: middle;\n",
              "    }\n",
              "\n",
              "    .dataframe tbody tr th {\n",
              "        vertical-align: top;\n",
              "    }\n",
              "\n",
              "    .dataframe thead th {\n",
              "        text-align: right;\n",
              "    }\n",
              "</style>\n",
              "<table border=\"1\" class=\"dataframe\">\n",
              "  <thead>\n",
              "    <tr style=\"text-align: right;\">\n",
              "      <th></th>\n",
              "      <th>YEAR</th>\n",
              "      <th>JAN</th>\n",
              "      <th>FEB</th>\n",
              "      <th>MAR</th>\n",
              "      <th>APR</th>\n",
              "      <th>MAY</th>\n",
              "      <th>JUN</th>\n",
              "      <th>JUL</th>\n",
              "      <th>AUG</th>\n",
              "      <th>SEP</th>\n",
              "      <th>OCT</th>\n",
              "      <th>NOV</th>\n",
              "      <th>DEC</th>\n",
              "      <th>ANNUAL</th>\n",
              "      <th>Jan-Feb</th>\n",
              "      <th>Mar-May</th>\n",
              "      <th>Jun-Sep</th>\n",
              "      <th>Oct-Dec</th>\n",
              "    </tr>\n",
              "  </thead>\n",
              "  <tbody>\n",
              "    <tr>\n",
              "      <th>YEAR</th>\n",
              "      <td>94.405303</td>\n",
              "      <td>0.0</td>\n",
              "      <td>0.0</td>\n",
              "      <td>-50.734848</td>\n",
              "      <td>15.720833</td>\n",
              "      <td>33.783239</td>\n",
              "      <td>-5.484943</td>\n",
              "      <td>-18.910322</td>\n",
              "      <td>284.585795</td>\n",
              "      <td>147.346970</td>\n",
              "      <td>193.901989</td>\n",
              "      <td>26.024242</td>\n",
              "      <td>8.272443</td>\n",
              "      <td>634.505398</td>\n",
              "      <td>0.0</td>\n",
              "      <td>-1.230777</td>\n",
              "      <td>407.537500</td>\n",
              "      <td>228.198674</td>\n",
              "    </tr>\n",
              "    <tr>\n",
              "      <th>JAN</th>\n",
              "      <td>0.000000</td>\n",
              "      <td>0.0</td>\n",
              "      <td>0.0</td>\n",
              "      <td>0.000000</td>\n",
              "      <td>0.000000</td>\n",
              "      <td>0.000000</td>\n",
              "      <td>0.000000</td>\n",
              "      <td>0.000000</td>\n",
              "      <td>0.000000</td>\n",
              "      <td>0.000000</td>\n",
              "      <td>0.000000</td>\n",
              "      <td>0.000000</td>\n",
              "      <td>0.000000</td>\n",
              "      <td>0.000000</td>\n",
              "      <td>0.0</td>\n",
              "      <td>0.000000</td>\n",
              "      <td>0.000000</td>\n",
              "      <td>0.000000</td>\n",
              "    </tr>\n",
              "    <tr>\n",
              "      <th>FEB</th>\n",
              "      <td>0.000000</td>\n",
              "      <td>0.0</td>\n",
              "      <td>0.0</td>\n",
              "      <td>0.000000</td>\n",
              "      <td>0.000000</td>\n",
              "      <td>0.000000</td>\n",
              "      <td>0.000000</td>\n",
              "      <td>0.000000</td>\n",
              "      <td>0.000000</td>\n",
              "      <td>0.000000</td>\n",
              "      <td>0.000000</td>\n",
              "      <td>0.000000</td>\n",
              "      <td>0.000000</td>\n",
              "      <td>0.000000</td>\n",
              "      <td>0.0</td>\n",
              "      <td>0.000000</td>\n",
              "      <td>0.000000</td>\n",
              "      <td>0.000000</td>\n",
              "    </tr>\n",
              "    <tr>\n",
              "      <th>MAR</th>\n",
              "      <td>-50.734848</td>\n",
              "      <td>0.0</td>\n",
              "      <td>0.0</td>\n",
              "      <td>236.043201</td>\n",
              "      <td>87.009479</td>\n",
              "      <td>39.030682</td>\n",
              "      <td>-223.403722</td>\n",
              "      <td>59.943589</td>\n",
              "      <td>-62.828040</td>\n",
              "      <td>-169.118390</td>\n",
              "      <td>-125.342131</td>\n",
              "      <td>-29.008504</td>\n",
              "      <td>-18.913466</td>\n",
              "      <td>-206.587301</td>\n",
              "      <td>0.0</td>\n",
              "      <td>362.083362</td>\n",
              "      <td>-395.406563</td>\n",
              "      <td>-173.264100</td>\n",
              "    </tr>\n",
              "    <tr>\n",
              "      <th>APR</th>\n",
              "      <td>15.720833</td>\n",
              "      <td>0.0</td>\n",
              "      <td>0.0</td>\n",
              "      <td>87.009479</td>\n",
              "      <td>1055.446042</td>\n",
              "      <td>88.795625</td>\n",
              "      <td>542.324062</td>\n",
              "      <td>45.987708</td>\n",
              "      <td>1178.979687</td>\n",
              "      <td>661.374792</td>\n",
              "      <td>77.779062</td>\n",
              "      <td>37.719479</td>\n",
              "      <td>49.651250</td>\n",
              "      <td>3825.067188</td>\n",
              "      <td>0.0</td>\n",
              "      <td>1231.251146</td>\n",
              "      <td>2428.666250</td>\n",
              "      <td>165.149792</td>\n",
              "    </tr>\n",
              "    <tr>\n",
              "      <th>MAY</th>\n",
              "      <td>33.783239</td>\n",
              "      <td>0.0</td>\n",
              "      <td>0.0</td>\n",
              "      <td>39.030682</td>\n",
              "      <td>88.795625</td>\n",
              "      <td>2493.263636</td>\n",
              "      <td>128.085568</td>\n",
              "      <td>-50.628636</td>\n",
              "      <td>-1862.436420</td>\n",
              "      <td>-1188.146136</td>\n",
              "      <td>-1049.706051</td>\n",
              "      <td>82.698778</td>\n",
              "      <td>31.311619</td>\n",
              "      <td>-1287.731335</td>\n",
              "      <td>0.0</td>\n",
              "      <td>2621.089943</td>\n",
              "      <td>-2973.125625</td>\n",
              "      <td>-935.695653</td>\n",
              "    </tr>\n",
              "    <tr>\n",
              "      <th>JUN</th>\n",
              "      <td>-5.484943</td>\n",
              "      <td>0.0</td>\n",
              "      <td>0.0</td>\n",
              "      <td>-223.403722</td>\n",
              "      <td>542.324062</td>\n",
              "      <td>128.085568</td>\n",
              "      <td>2756.641534</td>\n",
              "      <td>-790.170881</td>\n",
              "      <td>1013.748977</td>\n",
              "      <td>387.692244</td>\n",
              "      <td>42.869631</td>\n",
              "      <td>106.702670</td>\n",
              "      <td>97.790028</td>\n",
              "      <td>4062.280114</td>\n",
              "      <td>0.0</td>\n",
              "      <td>447.005909</td>\n",
              "      <td>3367.911875</td>\n",
              "      <td>247.362330</td>\n",
              "    </tr>\n",
              "    <tr>\n",
              "      <th>JUL</th>\n",
              "      <td>-18.910322</td>\n",
              "      <td>0.0</td>\n",
              "      <td>0.0</td>\n",
              "      <td>59.943589</td>\n",
              "      <td>45.987708</td>\n",
              "      <td>-50.628636</td>\n",
              "      <td>-790.170881</td>\n",
              "      <td>6015.508428</td>\n",
              "      <td>-274.862017</td>\n",
              "      <td>2041.066345</td>\n",
              "      <td>259.202926</td>\n",
              "      <td>-44.956695</td>\n",
              "      <td>-39.745994</td>\n",
              "      <td>7221.344773</td>\n",
              "      <td>0.0</td>\n",
              "      <td>55.302661</td>\n",
              "      <td>6991.541875</td>\n",
              "      <td>174.500237</td>\n",
              "    </tr>\n",
              "    <tr>\n",
              "      <th>AUG</th>\n",
              "      <td>284.585795</td>\n",
              "      <td>0.0</td>\n",
              "      <td>0.0</td>\n",
              "      <td>-62.828040</td>\n",
              "      <td>1178.979687</td>\n",
              "      <td>-1862.436420</td>\n",
              "      <td>1013.748977</td>\n",
              "      <td>-274.862017</td>\n",
              "      <td>12271.745057</td>\n",
              "      <td>4249.655483</td>\n",
              "      <td>2522.281080</td>\n",
              "      <td>175.505511</td>\n",
              "      <td>52.455398</td>\n",
              "      <td>19264.244716</td>\n",
              "      <td>0.0</td>\n",
              "      <td>-746.284773</td>\n",
              "      <td>17260.287500</td>\n",
              "      <td>2750.241989</td>\n",
              "    </tr>\n",
              "    <tr>\n",
              "      <th>SEP</th>\n",
              "      <td>147.346970</td>\n",
              "      <td>0.0</td>\n",
              "      <td>0.0</td>\n",
              "      <td>-169.118390</td>\n",
              "      <td>661.374792</td>\n",
              "      <td>-1188.146136</td>\n",
              "      <td>387.692244</td>\n",
              "      <td>2041.066345</td>\n",
              "      <td>4249.655483</td>\n",
              "      <td>6188.962178</td>\n",
              "      <td>1408.292926</td>\n",
              "      <td>456.824451</td>\n",
              "      <td>178.959943</td>\n",
              "      <td>14215.563835</td>\n",
              "      <td>0.0</td>\n",
              "      <td>-695.889735</td>\n",
              "      <td>12867.376250</td>\n",
              "      <td>2044.077320</td>\n",
              "    </tr>\n",
              "    <tr>\n",
              "      <th>OCT</th>\n",
              "      <td>193.901989</td>\n",
              "      <td>0.0</td>\n",
              "      <td>0.0</td>\n",
              "      <td>-125.342131</td>\n",
              "      <td>77.779062</td>\n",
              "      <td>-1049.706051</td>\n",
              "      <td>42.869631</td>\n",
              "      <td>259.202926</td>\n",
              "      <td>2522.281080</td>\n",
              "      <td>1408.292926</td>\n",
              "      <td>2871.324886</td>\n",
              "      <td>-7.291534</td>\n",
              "      <td>20.699432</td>\n",
              "      <td>6020.110227</td>\n",
              "      <td>0.0</td>\n",
              "      <td>-1097.269119</td>\n",
              "      <td>4232.646563</td>\n",
              "      <td>2884.732784</td>\n",
              "    </tr>\n",
              "    <tr>\n",
              "      <th>NOV</th>\n",
              "      <td>26.024242</td>\n",
              "      <td>0.0</td>\n",
              "      <td>0.0</td>\n",
              "      <td>-29.008504</td>\n",
              "      <td>37.719479</td>\n",
              "      <td>82.698778</td>\n",
              "      <td>106.702670</td>\n",
              "      <td>-44.956695</td>\n",
              "      <td>175.505511</td>\n",
              "      <td>456.824451</td>\n",
              "      <td>-7.291534</td>\n",
              "      <td>320.336894</td>\n",
              "      <td>206.566392</td>\n",
              "      <td>1305.097443</td>\n",
              "      <td>0.0</td>\n",
              "      <td>91.409754</td>\n",
              "      <td>694.075938</td>\n",
              "      <td>519.611752</td>\n",
              "    </tr>\n",
              "    <tr>\n",
              "      <th>DEC</th>\n",
              "      <td>8.272443</td>\n",
              "      <td>0.0</td>\n",
              "      <td>0.0</td>\n",
              "      <td>-18.913466</td>\n",
              "      <td>49.651250</td>\n",
              "      <td>31.311619</td>\n",
              "      <td>97.790028</td>\n",
              "      <td>-39.745994</td>\n",
              "      <td>52.455398</td>\n",
              "      <td>178.959943</td>\n",
              "      <td>20.699432</td>\n",
              "      <td>206.566392</td>\n",
              "      <td>173.177159</td>\n",
              "      <td>751.951761</td>\n",
              "      <td>0.0</td>\n",
              "      <td>62.049403</td>\n",
              "      <td>289.459375</td>\n",
              "      <td>400.442983</td>\n",
              "    </tr>\n",
              "    <tr>\n",
              "      <th>ANNUAL</th>\n",
              "      <td>634.505398</td>\n",
              "      <td>0.0</td>\n",
              "      <td>0.0</td>\n",
              "      <td>-206.587301</td>\n",
              "      <td>3825.067188</td>\n",
              "      <td>-1287.731335</td>\n",
              "      <td>4062.280114</td>\n",
              "      <td>7221.344773</td>\n",
              "      <td>19264.244716</td>\n",
              "      <td>14215.563835</td>\n",
              "      <td>6020.110227</td>\n",
              "      <td>1305.097443</td>\n",
              "      <td>751.951761</td>\n",
              "      <td>55171.341420</td>\n",
              "      <td>0.0</td>\n",
              "      <td>2330.748551</td>\n",
              "      <td>44763.433437</td>\n",
              "      <td>8077.159432</td>\n",
              "    </tr>\n",
              "    <tr>\n",
              "      <th>Jan-Feb</th>\n",
              "      <td>0.000000</td>\n",
              "      <td>0.0</td>\n",
              "      <td>0.0</td>\n",
              "      <td>0.000000</td>\n",
              "      <td>0.000000</td>\n",
              "      <td>0.000000</td>\n",
              "      <td>0.000000</td>\n",
              "      <td>0.000000</td>\n",
              "      <td>0.000000</td>\n",
              "      <td>0.000000</td>\n",
              "      <td>0.000000</td>\n",
              "      <td>0.000000</td>\n",
              "      <td>0.000000</td>\n",
              "      <td>0.000000</td>\n",
              "      <td>0.0</td>\n",
              "      <td>0.000000</td>\n",
              "      <td>0.000000</td>\n",
              "      <td>0.000000</td>\n",
              "    </tr>\n",
              "    <tr>\n",
              "      <th>Mar-May</th>\n",
              "      <td>-1.230777</td>\n",
              "      <td>0.0</td>\n",
              "      <td>0.0</td>\n",
              "      <td>362.083362</td>\n",
              "      <td>1231.251146</td>\n",
              "      <td>2621.089943</td>\n",
              "      <td>447.005909</td>\n",
              "      <td>55.302661</td>\n",
              "      <td>-746.284773</td>\n",
              "      <td>-695.889735</td>\n",
              "      <td>-1097.269119</td>\n",
              "      <td>91.409754</td>\n",
              "      <td>62.049403</td>\n",
              "      <td>2330.748551</td>\n",
              "      <td>0.0</td>\n",
              "      <td>4214.424451</td>\n",
              "      <td>-939.865938</td>\n",
              "      <td>-943.809962</td>\n",
              "    </tr>\n",
              "    <tr>\n",
              "      <th>Jun-Sep</th>\n",
              "      <td>407.537500</td>\n",
              "      <td>0.0</td>\n",
              "      <td>0.0</td>\n",
              "      <td>-395.406563</td>\n",
              "      <td>2428.666250</td>\n",
              "      <td>-2973.125625</td>\n",
              "      <td>3367.911875</td>\n",
              "      <td>6991.541875</td>\n",
              "      <td>17260.287500</td>\n",
              "      <td>12867.376250</td>\n",
              "      <td>4232.646563</td>\n",
              "      <td>694.075938</td>\n",
              "      <td>289.459375</td>\n",
              "      <td>44763.433437</td>\n",
              "      <td>0.0</td>\n",
              "      <td>-939.865938</td>\n",
              "      <td>40487.117500</td>\n",
              "      <td>5216.181875</td>\n",
              "    </tr>\n",
              "    <tr>\n",
              "      <th>Oct-Dec</th>\n",
              "      <td>228.198674</td>\n",
              "      <td>0.0</td>\n",
              "      <td>0.0</td>\n",
              "      <td>-173.264100</td>\n",
              "      <td>165.149792</td>\n",
              "      <td>-935.695653</td>\n",
              "      <td>247.362330</td>\n",
              "      <td>174.500237</td>\n",
              "      <td>2750.241989</td>\n",
              "      <td>2044.077320</td>\n",
              "      <td>2884.732784</td>\n",
              "      <td>519.611752</td>\n",
              "      <td>400.442983</td>\n",
              "      <td>8077.159432</td>\n",
              "      <td>0.0</td>\n",
              "      <td>-943.809962</td>\n",
              "      <td>5216.181875</td>\n",
              "      <td>3804.787519</td>\n",
              "    </tr>\n",
              "  </tbody>\n",
              "</table>\n",
              "</div>"
            ],
            "text/plain": [
              "               YEAR  JAN  FEB  ...      Mar-May       Jun-Sep      Oct-Dec\n",
              "YEAR      94.405303  0.0  0.0  ...    -1.230777    407.537500   228.198674\n",
              "JAN        0.000000  0.0  0.0  ...     0.000000      0.000000     0.000000\n",
              "FEB        0.000000  0.0  0.0  ...     0.000000      0.000000     0.000000\n",
              "MAR      -50.734848  0.0  0.0  ...   362.083362   -395.406563  -173.264100\n",
              "APR       15.720833  0.0  0.0  ...  1231.251146   2428.666250   165.149792\n",
              "MAY       33.783239  0.0  0.0  ...  2621.089943  -2973.125625  -935.695653\n",
              "JUN       -5.484943  0.0  0.0  ...   447.005909   3367.911875   247.362330\n",
              "JUL      -18.910322  0.0  0.0  ...    55.302661   6991.541875   174.500237\n",
              "AUG      284.585795  0.0  0.0  ...  -746.284773  17260.287500  2750.241989\n",
              "SEP      147.346970  0.0  0.0  ...  -695.889735  12867.376250  2044.077320\n",
              "OCT      193.901989  0.0  0.0  ... -1097.269119   4232.646563  2884.732784\n",
              "NOV       26.024242  0.0  0.0  ...    91.409754    694.075938   519.611752\n",
              "DEC        8.272443  0.0  0.0  ...    62.049403    289.459375   400.442983\n",
              "ANNUAL   634.505398  0.0  0.0  ...  2330.748551  44763.433437  8077.159432\n",
              "Jan-Feb    0.000000  0.0  0.0  ...     0.000000      0.000000     0.000000\n",
              "Mar-May   -1.230777  0.0  0.0  ...  4214.424451   -939.865938  -943.809962\n",
              "Jun-Sep  407.537500  0.0  0.0  ...  -939.865938  40487.117500  5216.181875\n",
              "Oct-Dec  228.198674  0.0  0.0  ...  -943.809962   5216.181875  3804.787519\n",
              "\n",
              "[18 rows x 18 columns]"
            ]
          },
          "metadata": {},
          "execution_count": 24
        }
      ]
    },
    {
      "cell_type": "code",
      "metadata": {
        "colab": {
          "base_uri": "https://localhost:8080/",
          "height": 703
        },
        "id": "E0iTVUm6cfql",
        "outputId": "ae8cd7dc-3724-49e8-ac0e-8d9e93083e33"
      },
      "source": [
        "data.corr()"
      ],
      "execution_count": 25,
      "outputs": [
        {
          "output_type": "execute_result",
          "data": {
            "text/html": [
              "<div>\n",
              "<style scoped>\n",
              "    .dataframe tbody tr th:only-of-type {\n",
              "        vertical-align: middle;\n",
              "    }\n",
              "\n",
              "    .dataframe tbody tr th {\n",
              "        vertical-align: top;\n",
              "    }\n",
              "\n",
              "    .dataframe thead th {\n",
              "        text-align: right;\n",
              "    }\n",
              "</style>\n",
              "<table border=\"1\" class=\"dataframe\">\n",
              "  <thead>\n",
              "    <tr style=\"text-align: right;\">\n",
              "      <th></th>\n",
              "      <th>YEAR</th>\n",
              "      <th>JAN</th>\n",
              "      <th>FEB</th>\n",
              "      <th>MAR</th>\n",
              "      <th>APR</th>\n",
              "      <th>MAY</th>\n",
              "      <th>JUN</th>\n",
              "      <th>JUL</th>\n",
              "      <th>AUG</th>\n",
              "      <th>SEP</th>\n",
              "      <th>OCT</th>\n",
              "      <th>NOV</th>\n",
              "      <th>DEC</th>\n",
              "      <th>ANNUAL</th>\n",
              "      <th>Jan-Feb</th>\n",
              "      <th>Mar-May</th>\n",
              "      <th>Jun-Sep</th>\n",
              "      <th>Oct-Dec</th>\n",
              "    </tr>\n",
              "  </thead>\n",
              "  <tbody>\n",
              "    <tr>\n",
              "      <th>YEAR</th>\n",
              "      <td>1.000000</td>\n",
              "      <td>NaN</td>\n",
              "      <td>NaN</td>\n",
              "      <td>-0.339870</td>\n",
              "      <td>0.049803</td>\n",
              "      <td>0.069634</td>\n",
              "      <td>-0.010752</td>\n",
              "      <td>-0.025094</td>\n",
              "      <td>0.264400</td>\n",
              "      <td>0.192768</td>\n",
              "      <td>0.372428</td>\n",
              "      <td>0.149650</td>\n",
              "      <td>0.064698</td>\n",
              "      <td>0.278023</td>\n",
              "      <td>NaN</td>\n",
              "      <td>-0.001951</td>\n",
              "      <td>0.208454</td>\n",
              "      <td>0.380759</td>\n",
              "    </tr>\n",
              "    <tr>\n",
              "      <th>JAN</th>\n",
              "      <td>NaN</td>\n",
              "      <td>NaN</td>\n",
              "      <td>NaN</td>\n",
              "      <td>NaN</td>\n",
              "      <td>NaN</td>\n",
              "      <td>NaN</td>\n",
              "      <td>NaN</td>\n",
              "      <td>NaN</td>\n",
              "      <td>NaN</td>\n",
              "      <td>NaN</td>\n",
              "      <td>NaN</td>\n",
              "      <td>NaN</td>\n",
              "      <td>NaN</td>\n",
              "      <td>NaN</td>\n",
              "      <td>NaN</td>\n",
              "      <td>NaN</td>\n",
              "      <td>NaN</td>\n",
              "      <td>NaN</td>\n",
              "    </tr>\n",
              "    <tr>\n",
              "      <th>FEB</th>\n",
              "      <td>NaN</td>\n",
              "      <td>NaN</td>\n",
              "      <td>NaN</td>\n",
              "      <td>NaN</td>\n",
              "      <td>NaN</td>\n",
              "      <td>NaN</td>\n",
              "      <td>NaN</td>\n",
              "      <td>NaN</td>\n",
              "      <td>NaN</td>\n",
              "      <td>NaN</td>\n",
              "      <td>NaN</td>\n",
              "      <td>NaN</td>\n",
              "      <td>NaN</td>\n",
              "      <td>NaN</td>\n",
              "      <td>NaN</td>\n",
              "      <td>NaN</td>\n",
              "      <td>NaN</td>\n",
              "      <td>NaN</td>\n",
              "    </tr>\n",
              "    <tr>\n",
              "      <th>MAR</th>\n",
              "      <td>-0.339870</td>\n",
              "      <td>NaN</td>\n",
              "      <td>NaN</td>\n",
              "      <td>1.000000</td>\n",
              "      <td>0.174322</td>\n",
              "      <td>0.050878</td>\n",
              "      <td>-0.276952</td>\n",
              "      <td>0.050305</td>\n",
              "      <td>-0.036915</td>\n",
              "      <td>-0.139922</td>\n",
              "      <td>-0.152251</td>\n",
              "      <td>-0.105494</td>\n",
              "      <td>-0.093547</td>\n",
              "      <td>-0.057247</td>\n",
              "      <td>NaN</td>\n",
              "      <td>0.363031</td>\n",
              "      <td>-0.127906</td>\n",
              "      <td>-0.182830</td>\n",
              "    </tr>\n",
              "    <tr>\n",
              "      <th>APR</th>\n",
              "      <td>0.049803</td>\n",
              "      <td>NaN</td>\n",
              "      <td>NaN</td>\n",
              "      <td>0.174322</td>\n",
              "      <td>1.000000</td>\n",
              "      <td>0.054738</td>\n",
              "      <td>0.317944</td>\n",
              "      <td>0.018251</td>\n",
              "      <td>0.327593</td>\n",
              "      <td>0.258774</td>\n",
              "      <td>0.044679</td>\n",
              "      <td>0.064870</td>\n",
              "      <td>0.116136</td>\n",
              "      <td>0.501261</td>\n",
              "      <td>NaN</td>\n",
              "      <td>0.583794</td>\n",
              "      <td>0.371528</td>\n",
              "      <td>0.082413</td>\n",
              "    </tr>\n",
              "    <tr>\n",
              "      <th>MAY</th>\n",
              "      <td>0.069634</td>\n",
              "      <td>NaN</td>\n",
              "      <td>NaN</td>\n",
              "      <td>0.050878</td>\n",
              "      <td>0.054738</td>\n",
              "      <td>1.000000</td>\n",
              "      <td>0.048857</td>\n",
              "      <td>-0.013073</td>\n",
              "      <td>-0.336701</td>\n",
              "      <td>-0.302466</td>\n",
              "      <td>-0.392322</td>\n",
              "      <td>0.092536</td>\n",
              "      <td>0.047651</td>\n",
              "      <td>-0.109795</td>\n",
              "      <td>NaN</td>\n",
              "      <td>0.808591</td>\n",
              "      <td>-0.295918</td>\n",
              "      <td>-0.303798</td>\n",
              "    </tr>\n",
              "    <tr>\n",
              "      <th>JUN</th>\n",
              "      <td>-0.010752</td>\n",
              "      <td>NaN</td>\n",
              "      <td>NaN</td>\n",
              "      <td>-0.276952</td>\n",
              "      <td>0.317944</td>\n",
              "      <td>0.048857</td>\n",
              "      <td>1.000000</td>\n",
              "      <td>-0.194042</td>\n",
              "      <td>0.174296</td>\n",
              "      <td>0.093862</td>\n",
              "      <td>0.015238</td>\n",
              "      <td>0.113549</td>\n",
              "      <td>0.141533</td>\n",
              "      <td>0.329400</td>\n",
              "      <td>NaN</td>\n",
              "      <td>0.131146</td>\n",
              "      <td>0.318795</td>\n",
              "      <td>0.076380</td>\n",
              "    </tr>\n",
              "    <tr>\n",
              "      <th>JUL</th>\n",
              "      <td>-0.025094</td>\n",
              "      <td>NaN</td>\n",
              "      <td>NaN</td>\n",
              "      <td>0.050305</td>\n",
              "      <td>0.018251</td>\n",
              "      <td>-0.013073</td>\n",
              "      <td>-0.194042</td>\n",
              "      <td>1.000000</td>\n",
              "      <td>-0.031991</td>\n",
              "      <td>0.334512</td>\n",
              "      <td>0.062368</td>\n",
              "      <td>-0.032386</td>\n",
              "      <td>-0.038941</td>\n",
              "      <td>0.396392</td>\n",
              "      <td>NaN</td>\n",
              "      <td>0.010983</td>\n",
              "      <td>0.448000</td>\n",
              "      <td>0.036475</td>\n",
              "    </tr>\n",
              "    <tr>\n",
              "      <th>AUG</th>\n",
              "      <td>0.264400</td>\n",
              "      <td>NaN</td>\n",
              "      <td>NaN</td>\n",
              "      <td>-0.036915</td>\n",
              "      <td>0.327593</td>\n",
              "      <td>-0.336701</td>\n",
              "      <td>0.174296</td>\n",
              "      <td>-0.031991</td>\n",
              "      <td>1.000000</td>\n",
              "      <td>0.487631</td>\n",
              "      <td>0.424912</td>\n",
              "      <td>0.088519</td>\n",
              "      <td>0.035983</td>\n",
              "      <td>0.740358</td>\n",
              "      <td>NaN</td>\n",
              "      <td>-0.103773</td>\n",
              "      <td>0.774348</td>\n",
              "      <td>0.402488</td>\n",
              "    </tr>\n",
              "    <tr>\n",
              "      <th>SEP</th>\n",
              "      <td>0.192768</td>\n",
              "      <td>NaN</td>\n",
              "      <td>NaN</td>\n",
              "      <td>-0.139922</td>\n",
              "      <td>0.258774</td>\n",
              "      <td>-0.302466</td>\n",
              "      <td>0.093862</td>\n",
              "      <td>0.334512</td>\n",
              "      <td>0.487631</td>\n",
              "      <td>1.000000</td>\n",
              "      <td>0.334074</td>\n",
              "      <td>0.324442</td>\n",
              "      <td>0.172863</td>\n",
              "      <td>0.769305</td>\n",
              "      <td>NaN</td>\n",
              "      <td>-0.136258</td>\n",
              "      <td>0.812873</td>\n",
              "      <td>0.421234</td>\n",
              "    </tr>\n",
              "    <tr>\n",
              "      <th>OCT</th>\n",
              "      <td>0.372428</td>\n",
              "      <td>NaN</td>\n",
              "      <td>NaN</td>\n",
              "      <td>-0.152251</td>\n",
              "      <td>0.044679</td>\n",
              "      <td>-0.392322</td>\n",
              "      <td>0.015238</td>\n",
              "      <td>0.062368</td>\n",
              "      <td>0.424912</td>\n",
              "      <td>0.334074</td>\n",
              "      <td>1.000000</td>\n",
              "      <td>-0.007603</td>\n",
              "      <td>0.029354</td>\n",
              "      <td>0.478307</td>\n",
              "      <td>NaN</td>\n",
              "      <td>-0.315430</td>\n",
              "      <td>0.392566</td>\n",
              "      <td>0.872769</td>\n",
              "    </tr>\n",
              "    <tr>\n",
              "      <th>NOV</th>\n",
              "      <td>0.149650</td>\n",
              "      <td>NaN</td>\n",
              "      <td>NaN</td>\n",
              "      <td>-0.105494</td>\n",
              "      <td>0.064870</td>\n",
              "      <td>0.092536</td>\n",
              "      <td>0.113549</td>\n",
              "      <td>-0.032386</td>\n",
              "      <td>0.088519</td>\n",
              "      <td>0.324442</td>\n",
              "      <td>-0.007603</td>\n",
              "      <td>1.000000</td>\n",
              "      <td>0.877023</td>\n",
              "      <td>0.310444</td>\n",
              "      <td>NaN</td>\n",
              "      <td>0.078672</td>\n",
              "      <td>0.192728</td>\n",
              "      <td>0.470663</td>\n",
              "    </tr>\n",
              "    <tr>\n",
              "      <th>DEC</th>\n",
              "      <td>0.064698</td>\n",
              "      <td>NaN</td>\n",
              "      <td>NaN</td>\n",
              "      <td>-0.093547</td>\n",
              "      <td>0.116136</td>\n",
              "      <td>0.047651</td>\n",
              "      <td>0.141533</td>\n",
              "      <td>-0.038941</td>\n",
              "      <td>0.035983</td>\n",
              "      <td>0.172863</td>\n",
              "      <td>0.029354</td>\n",
              "      <td>0.877023</td>\n",
              "      <td>1.000000</td>\n",
              "      <td>0.243270</td>\n",
              "      <td>NaN</td>\n",
              "      <td>0.072631</td>\n",
              "      <td>0.109316</td>\n",
              "      <td>0.493322</td>\n",
              "    </tr>\n",
              "    <tr>\n",
              "      <th>ANNUAL</th>\n",
              "      <td>0.278023</td>\n",
              "      <td>NaN</td>\n",
              "      <td>NaN</td>\n",
              "      <td>-0.057247</td>\n",
              "      <td>0.501261</td>\n",
              "      <td>-0.109795</td>\n",
              "      <td>0.329400</td>\n",
              "      <td>0.396392</td>\n",
              "      <td>0.740358</td>\n",
              "      <td>0.769305</td>\n",
              "      <td>0.478307</td>\n",
              "      <td>0.310444</td>\n",
              "      <td>0.243270</td>\n",
              "      <td>1.000000</td>\n",
              "      <td>NaN</td>\n",
              "      <td>0.152851</td>\n",
              "      <td>0.947127</td>\n",
              "      <td>0.557489</td>\n",
              "    </tr>\n",
              "    <tr>\n",
              "      <th>Jan-Feb</th>\n",
              "      <td>NaN</td>\n",
              "      <td>NaN</td>\n",
              "      <td>NaN</td>\n",
              "      <td>NaN</td>\n",
              "      <td>NaN</td>\n",
              "      <td>NaN</td>\n",
              "      <td>NaN</td>\n",
              "      <td>NaN</td>\n",
              "      <td>NaN</td>\n",
              "      <td>NaN</td>\n",
              "      <td>NaN</td>\n",
              "      <td>NaN</td>\n",
              "      <td>NaN</td>\n",
              "      <td>NaN</td>\n",
              "      <td>NaN</td>\n",
              "      <td>NaN</td>\n",
              "      <td>NaN</td>\n",
              "      <td>NaN</td>\n",
              "    </tr>\n",
              "    <tr>\n",
              "      <th>Mar-May</th>\n",
              "      <td>-0.001951</td>\n",
              "      <td>NaN</td>\n",
              "      <td>NaN</td>\n",
              "      <td>0.363031</td>\n",
              "      <td>0.583794</td>\n",
              "      <td>0.808591</td>\n",
              "      <td>0.131146</td>\n",
              "      <td>0.010983</td>\n",
              "      <td>-0.103773</td>\n",
              "      <td>-0.136258</td>\n",
              "      <td>-0.315430</td>\n",
              "      <td>0.078672</td>\n",
              "      <td>0.072631</td>\n",
              "      <td>0.152851</td>\n",
              "      <td>NaN</td>\n",
              "      <td>1.000000</td>\n",
              "      <td>-0.071951</td>\n",
              "      <td>-0.235695</td>\n",
              "    </tr>\n",
              "    <tr>\n",
              "      <th>Jun-Sep</th>\n",
              "      <td>0.208454</td>\n",
              "      <td>NaN</td>\n",
              "      <td>NaN</td>\n",
              "      <td>-0.127906</td>\n",
              "      <td>0.371528</td>\n",
              "      <td>-0.295918</td>\n",
              "      <td>0.318795</td>\n",
              "      <td>0.448000</td>\n",
              "      <td>0.774348</td>\n",
              "      <td>0.812873</td>\n",
              "      <td>0.392566</td>\n",
              "      <td>0.192728</td>\n",
              "      <td>0.109316</td>\n",
              "      <td>0.947127</td>\n",
              "      <td>NaN</td>\n",
              "      <td>-0.071951</td>\n",
              "      <td>1.000000</td>\n",
              "      <td>0.420271</td>\n",
              "    </tr>\n",
              "    <tr>\n",
              "      <th>Oct-Dec</th>\n",
              "      <td>0.380759</td>\n",
              "      <td>NaN</td>\n",
              "      <td>NaN</td>\n",
              "      <td>-0.182830</td>\n",
              "      <td>0.082413</td>\n",
              "      <td>-0.303798</td>\n",
              "      <td>0.076380</td>\n",
              "      <td>0.036475</td>\n",
              "      <td>0.402488</td>\n",
              "      <td>0.421234</td>\n",
              "      <td>0.872769</td>\n",
              "      <td>0.470663</td>\n",
              "      <td>0.493322</td>\n",
              "      <td>0.557489</td>\n",
              "      <td>NaN</td>\n",
              "      <td>-0.235695</td>\n",
              "      <td>0.420271</td>\n",
              "      <td>1.000000</td>\n",
              "    </tr>\n",
              "  </tbody>\n",
              "</table>\n",
              "</div>"
            ],
            "text/plain": [
              "             YEAR  JAN  FEB       MAR  ...  Jan-Feb   Mar-May   Jun-Sep   Oct-Dec\n",
              "YEAR     1.000000  NaN  NaN -0.339870  ...      NaN -0.001951  0.208454  0.380759\n",
              "JAN           NaN  NaN  NaN       NaN  ...      NaN       NaN       NaN       NaN\n",
              "FEB           NaN  NaN  NaN       NaN  ...      NaN       NaN       NaN       NaN\n",
              "MAR     -0.339870  NaN  NaN  1.000000  ...      NaN  0.363031 -0.127906 -0.182830\n",
              "APR      0.049803  NaN  NaN  0.174322  ...      NaN  0.583794  0.371528  0.082413\n",
              "MAY      0.069634  NaN  NaN  0.050878  ...      NaN  0.808591 -0.295918 -0.303798\n",
              "JUN     -0.010752  NaN  NaN -0.276952  ...      NaN  0.131146  0.318795  0.076380\n",
              "JUL     -0.025094  NaN  NaN  0.050305  ...      NaN  0.010983  0.448000  0.036475\n",
              "AUG      0.264400  NaN  NaN -0.036915  ...      NaN -0.103773  0.774348  0.402488\n",
              "SEP      0.192768  NaN  NaN -0.139922  ...      NaN -0.136258  0.812873  0.421234\n",
              "OCT      0.372428  NaN  NaN -0.152251  ...      NaN -0.315430  0.392566  0.872769\n",
              "NOV      0.149650  NaN  NaN -0.105494  ...      NaN  0.078672  0.192728  0.470663\n",
              "DEC      0.064698  NaN  NaN -0.093547  ...      NaN  0.072631  0.109316  0.493322\n",
              "ANNUAL   0.278023  NaN  NaN -0.057247  ...      NaN  0.152851  0.947127  0.557489\n",
              "Jan-Feb       NaN  NaN  NaN       NaN  ...      NaN       NaN       NaN       NaN\n",
              "Mar-May -0.001951  NaN  NaN  0.363031  ...      NaN  1.000000 -0.071951 -0.235695\n",
              "Jun-Sep  0.208454  NaN  NaN -0.127906  ...      NaN -0.071951  1.000000  0.420271\n",
              "Oct-Dec  0.380759  NaN  NaN -0.182830  ...      NaN -0.235695  0.420271  1.000000\n",
              "\n",
              "[18 rows x 18 columns]"
            ]
          },
          "metadata": {},
          "execution_count": 25
        }
      ]
    },
    {
      "cell_type": "code",
      "metadata": {
        "id": "dlO25MxJck8X"
      },
      "source": [
        "# replacing the yes/no in floods coloumn by 1/0\n",
        "data['Floods'].replace(['YES','NO'],[1,0],inplace=True)"
      ],
      "execution_count": 28,
      "outputs": []
    },
    {
      "cell_type": "code",
      "metadata": {
        "colab": {
          "base_uri": "https://localhost:8080/",
          "height": 206
        },
        "id": "IfdUBrJzdZ9F",
        "outputId": "a00cd624-ebf3-4ebf-dcd6-fc669f748c6f"
      },
      "source": [
        "#Printing the clean data\n",
        "data.head()"
      ],
      "execution_count": 29,
      "outputs": [
        {
          "output_type": "execute_result",
          "data": {
            "text/html": [
              "<div>\n",
              "<style scoped>\n",
              "    .dataframe tbody tr th:only-of-type {\n",
              "        vertical-align: middle;\n",
              "    }\n",
              "\n",
              "    .dataframe tbody tr th {\n",
              "        vertical-align: top;\n",
              "    }\n",
              "\n",
              "    .dataframe thead th {\n",
              "        text-align: right;\n",
              "    }\n",
              "</style>\n",
              "<table border=\"1\" class=\"dataframe\">\n",
              "  <thead>\n",
              "    <tr style=\"text-align: right;\">\n",
              "      <th></th>\n",
              "      <th>State</th>\n",
              "      <th>YEAR</th>\n",
              "      <th>JAN</th>\n",
              "      <th>FEB</th>\n",
              "      <th>MAR</th>\n",
              "      <th>APR</th>\n",
              "      <th>MAY</th>\n",
              "      <th>JUN</th>\n",
              "      <th>JUL</th>\n",
              "      <th>AUG</th>\n",
              "      <th>SEP</th>\n",
              "      <th>OCT</th>\n",
              "      <th>NOV</th>\n",
              "      <th>DEC</th>\n",
              "      <th>ANNUAL</th>\n",
              "      <th>Jan-Feb</th>\n",
              "      <th>Mar-May</th>\n",
              "      <th>Jun-Sep</th>\n",
              "      <th>Oct-Dec</th>\n",
              "      <th>Floods</th>\n",
              "    </tr>\n",
              "  </thead>\n",
              "  <tbody>\n",
              "    <tr>\n",
              "      <th>0</th>\n",
              "      <td>Kebbi</td>\n",
              "      <td>1981</td>\n",
              "      <td>0</td>\n",
              "      <td>0</td>\n",
              "      <td>1.0</td>\n",
              "      <td>22.3</td>\n",
              "      <td>84.9</td>\n",
              "      <td>116.6</td>\n",
              "      <td>387.9</td>\n",
              "      <td>184.1</td>\n",
              "      <td>98.7</td>\n",
              "      <td>0.4</td>\n",
              "      <td>0.0</td>\n",
              "      <td>0.0</td>\n",
              "      <td>895.9</td>\n",
              "      <td>0</td>\n",
              "      <td>108.2</td>\n",
              "      <td>787.3</td>\n",
              "      <td>0.4</td>\n",
              "      <td>0</td>\n",
              "    </tr>\n",
              "    <tr>\n",
              "      <th>1</th>\n",
              "      <td>Kebbi</td>\n",
              "      <td>1982</td>\n",
              "      <td>0</td>\n",
              "      <td>0</td>\n",
              "      <td>74.6</td>\n",
              "      <td>74.9</td>\n",
              "      <td>98.5</td>\n",
              "      <td>92.2</td>\n",
              "      <td>199.7</td>\n",
              "      <td>344.9</td>\n",
              "      <td>144.0</td>\n",
              "      <td>42.8</td>\n",
              "      <td>0.0</td>\n",
              "      <td>0.0</td>\n",
              "      <td>1071.6</td>\n",
              "      <td>0</td>\n",
              "      <td>248.0</td>\n",
              "      <td>780.8</td>\n",
              "      <td>42.8</td>\n",
              "      <td>1</td>\n",
              "    </tr>\n",
              "    <tr>\n",
              "      <th>2</th>\n",
              "      <td>Kebbi</td>\n",
              "      <td>1982</td>\n",
              "      <td>0</td>\n",
              "      <td>0</td>\n",
              "      <td>0.0</td>\n",
              "      <td>11.4</td>\n",
              "      <td>124.3</td>\n",
              "      <td>59.3</td>\n",
              "      <td>128.9</td>\n",
              "      <td>137.0</td>\n",
              "      <td>102.6</td>\n",
              "      <td>0.0</td>\n",
              "      <td>0.0</td>\n",
              "      <td>0.0</td>\n",
              "      <td>563.5</td>\n",
              "      <td>0</td>\n",
              "      <td>135.7</td>\n",
              "      <td>427.8</td>\n",
              "      <td>0.0</td>\n",
              "      <td>0</td>\n",
              "    </tr>\n",
              "    <tr>\n",
              "      <th>3</th>\n",
              "      <td>Kebbi</td>\n",
              "      <td>1984</td>\n",
              "      <td>0</td>\n",
              "      <td>0</td>\n",
              "      <td>22.1</td>\n",
              "      <td>33.3</td>\n",
              "      <td>190.0</td>\n",
              "      <td>137.1</td>\n",
              "      <td>34.4</td>\n",
              "      <td>181.6</td>\n",
              "      <td>19.9</td>\n",
              "      <td>0.0</td>\n",
              "      <td>0.0</td>\n",
              "      <td>0.0</td>\n",
              "      <td>618.4</td>\n",
              "      <td>0</td>\n",
              "      <td>245.4</td>\n",
              "      <td>373.0</td>\n",
              "      <td>0.0</td>\n",
              "      <td>0</td>\n",
              "    </tr>\n",
              "    <tr>\n",
              "      <th>4</th>\n",
              "      <td>Kebbi</td>\n",
              "      <td>1985</td>\n",
              "      <td>0</td>\n",
              "      <td>0</td>\n",
              "      <td>42.2</td>\n",
              "      <td>0.0</td>\n",
              "      <td>39.7</td>\n",
              "      <td>86.4</td>\n",
              "      <td>283.7</td>\n",
              "      <td>170.3</td>\n",
              "      <td>160.1</td>\n",
              "      <td>10.3</td>\n",
              "      <td>0.0</td>\n",
              "      <td>0.0</td>\n",
              "      <td>792.7</td>\n",
              "      <td>0</td>\n",
              "      <td>81.9</td>\n",
              "      <td>700.5</td>\n",
              "      <td>10.3</td>\n",
              "      <td>0</td>\n",
              "    </tr>\n",
              "  </tbody>\n",
              "</table>\n",
              "</div>"
            ],
            "text/plain": [
              "   State  YEAR  JAN  FEB   MAR  ...  Jan-Feb  Mar-May  Jun-Sep  Oct-Dec  Floods\n",
              "0  Kebbi  1981    0    0   1.0  ...        0    108.2    787.3      0.4       0\n",
              "1  Kebbi  1982    0    0  74.6  ...        0    248.0    780.8     42.8       1\n",
              "2  Kebbi  1982    0    0   0.0  ...        0    135.7    427.8      0.0       0\n",
              "3  Kebbi  1984    0    0  22.1  ...        0    245.4    373.0      0.0       0\n",
              "4  Kebbi  1985    0    0  42.2  ...        0     81.9    700.5     10.3       0\n",
              "\n",
              "[5 rows x 20 columns]"
            ]
          },
          "metadata": {},
          "execution_count": 29
        }
      ]
    },
    {
      "cell_type": "code",
      "metadata": {
        "colab": {
          "base_uri": "https://localhost:8080/",
          "height": 206
        },
        "id": "Y5tSaQnNdf_m",
        "outputId": "6e76902f-730e-48e6-dd3a-1a6ee4fba3cf"
      },
      "source": [
        "# Seperating the data which we are going to use for prediction.\n",
        "x=data.iloc[:,1:14]\n",
        "x.head()"
      ],
      "execution_count": 30,
      "outputs": [
        {
          "output_type": "execute_result",
          "data": {
            "text/html": [
              "<div>\n",
              "<style scoped>\n",
              "    .dataframe tbody tr th:only-of-type {\n",
              "        vertical-align: middle;\n",
              "    }\n",
              "\n",
              "    .dataframe tbody tr th {\n",
              "        vertical-align: top;\n",
              "    }\n",
              "\n",
              "    .dataframe thead th {\n",
              "        text-align: right;\n",
              "    }\n",
              "</style>\n",
              "<table border=\"1\" class=\"dataframe\">\n",
              "  <thead>\n",
              "    <tr style=\"text-align: right;\">\n",
              "      <th></th>\n",
              "      <th>YEAR</th>\n",
              "      <th>JAN</th>\n",
              "      <th>FEB</th>\n",
              "      <th>MAR</th>\n",
              "      <th>APR</th>\n",
              "      <th>MAY</th>\n",
              "      <th>JUN</th>\n",
              "      <th>JUL</th>\n",
              "      <th>AUG</th>\n",
              "      <th>SEP</th>\n",
              "      <th>OCT</th>\n",
              "      <th>NOV</th>\n",
              "      <th>DEC</th>\n",
              "    </tr>\n",
              "  </thead>\n",
              "  <tbody>\n",
              "    <tr>\n",
              "      <th>0</th>\n",
              "      <td>1981</td>\n",
              "      <td>0</td>\n",
              "      <td>0</td>\n",
              "      <td>1.0</td>\n",
              "      <td>22.3</td>\n",
              "      <td>84.9</td>\n",
              "      <td>116.6</td>\n",
              "      <td>387.9</td>\n",
              "      <td>184.1</td>\n",
              "      <td>98.7</td>\n",
              "      <td>0.4</td>\n",
              "      <td>0.0</td>\n",
              "      <td>0.0</td>\n",
              "    </tr>\n",
              "    <tr>\n",
              "      <th>1</th>\n",
              "      <td>1982</td>\n",
              "      <td>0</td>\n",
              "      <td>0</td>\n",
              "      <td>74.6</td>\n",
              "      <td>74.9</td>\n",
              "      <td>98.5</td>\n",
              "      <td>92.2</td>\n",
              "      <td>199.7</td>\n",
              "      <td>344.9</td>\n",
              "      <td>144.0</td>\n",
              "      <td>42.8</td>\n",
              "      <td>0.0</td>\n",
              "      <td>0.0</td>\n",
              "    </tr>\n",
              "    <tr>\n",
              "      <th>2</th>\n",
              "      <td>1982</td>\n",
              "      <td>0</td>\n",
              "      <td>0</td>\n",
              "      <td>0.0</td>\n",
              "      <td>11.4</td>\n",
              "      <td>124.3</td>\n",
              "      <td>59.3</td>\n",
              "      <td>128.9</td>\n",
              "      <td>137.0</td>\n",
              "      <td>102.6</td>\n",
              "      <td>0.0</td>\n",
              "      <td>0.0</td>\n",
              "      <td>0.0</td>\n",
              "    </tr>\n",
              "    <tr>\n",
              "      <th>3</th>\n",
              "      <td>1984</td>\n",
              "      <td>0</td>\n",
              "      <td>0</td>\n",
              "      <td>22.1</td>\n",
              "      <td>33.3</td>\n",
              "      <td>190.0</td>\n",
              "      <td>137.1</td>\n",
              "      <td>34.4</td>\n",
              "      <td>181.6</td>\n",
              "      <td>19.9</td>\n",
              "      <td>0.0</td>\n",
              "      <td>0.0</td>\n",
              "      <td>0.0</td>\n",
              "    </tr>\n",
              "    <tr>\n",
              "      <th>4</th>\n",
              "      <td>1985</td>\n",
              "      <td>0</td>\n",
              "      <td>0</td>\n",
              "      <td>42.2</td>\n",
              "      <td>0.0</td>\n",
              "      <td>39.7</td>\n",
              "      <td>86.4</td>\n",
              "      <td>283.7</td>\n",
              "      <td>170.3</td>\n",
              "      <td>160.1</td>\n",
              "      <td>10.3</td>\n",
              "      <td>0.0</td>\n",
              "      <td>0.0</td>\n",
              "    </tr>\n",
              "  </tbody>\n",
              "</table>\n",
              "</div>"
            ],
            "text/plain": [
              "   YEAR  JAN  FEB   MAR   APR    MAY  ...    JUL    AUG    SEP   OCT  NOV  DEC\n",
              "0  1981    0    0   1.0  22.3   84.9  ...  387.9  184.1   98.7   0.4  0.0  0.0\n",
              "1  1982    0    0  74.6  74.9   98.5  ...  199.7  344.9  144.0  42.8  0.0  0.0\n",
              "2  1982    0    0   0.0  11.4  124.3  ...  128.9  137.0  102.6   0.0  0.0  0.0\n",
              "3  1984    0    0  22.1  33.3  190.0  ...   34.4  181.6   19.9   0.0  0.0  0.0\n",
              "4  1985    0    0  42.2   0.0   39.7  ...  283.7  170.3  160.1  10.3  0.0  0.0\n",
              "\n",
              "[5 rows x 13 columns]"
            ]
          },
          "metadata": {},
          "execution_count": 30
        }
      ]
    },
    {
      "cell_type": "code",
      "metadata": {
        "colab": {
          "base_uri": "https://localhost:8080/"
        },
        "id": "0TI_Uw3UdqGu",
        "outputId": "e2f9a789-59c4-4d61-d6c0-cbb5e773d635"
      },
      "source": [
        "# Now seperate the flood label from the dataset.\n",
        "y=data.iloc[:,-1]\n",
        "y"
      ],
      "execution_count": 31,
      "outputs": [
        {
          "output_type": "execute_result",
          "data": {
            "text/plain": [
              "0     0\n",
              "1     1\n",
              "2     0\n",
              "3     0\n",
              "4     0\n",
              "5     1\n",
              "6     0\n",
              "7     0\n",
              "8     0\n",
              "9     0\n",
              "10    1\n",
              "11    1\n",
              "12    0\n",
              "13    1\n",
              "14    1\n",
              "15    0\n",
              "16    1\n",
              "17    0\n",
              "18    1\n",
              "19    1\n",
              "20    1\n",
              "21    0\n",
              "22    0\n",
              "23    0\n",
              "24    1\n",
              "25    1\n",
              "26    0\n",
              "27    1\n",
              "28    1\n",
              "29    1\n",
              "30    1\n",
              "31    0\n",
              "32    0\n",
              "Name: Floods, dtype: int64"
            ]
          },
          "metadata": {},
          "execution_count": 31
        }
      ]
    },
    {
      "cell_type": "markdown",
      "metadata": {
        "id": "Lu4Pp9Qbd-2k"
      },
      "source": [
        "Plotting the Data"
      ]
    },
    {
      "cell_type": "code",
      "metadata": {
        "colab": {
          "base_uri": "https://localhost:8080/",
          "height": 281
        },
        "id": "8WjxcMuleJF1",
        "outputId": "0458a623-72aa-4f10-9a45-37fc36fe0ce8"
      },
      "source": [
        "import matplotlib.pyplot as plt   \n",
        "# sets the backend of matplotlib to the 'inline' backend. \n",
        "%matplotlib inline                   \n",
        "c = data[['JUN','JUL','AUG','SEP']]\n",
        "c.hist()\n",
        "plt.show()\n",
        "# How the rainfall index vary during rainy season"
      ],
      "execution_count": 32,
      "outputs": [
        {
          "output_type": "display_data",
          "data": {
            "image/png": "[encoded data removed]",
            "text/plain": [
              "<Figure size 432x288 with 4 Axes>"
            ]
          },
          "metadata": {
            "needs_background": "light"
          }
        }
      ]
    },
    {
      "cell_type": "code",
      "metadata": {
        "colab": {
          "base_uri": "https://localhost:8080/",
          "height": 467
        },
        "id": "a_FdcqSqeQr8",
        "outputId": "1839d014-c550-4026-d23f-46e96df7ac00"
      },
      "source": [
        "ax = data[['JAN', 'FEB', 'MAR', 'APR','MAY', 'JUN', 'AUG', 'SEP', 'OCT','NOV','DEC']].mean().plot.bar(width=0.5,edgecolor='k',align='center',linewidth=2,figsize=(14,6))\n",
        "plt.xlabel('Month',fontsize=30)\n",
        "plt.ylabel('Monthly Rainfall',fontsize=20)\n",
        "plt.title('Rainfall in Kebbi State for all Months',fontsize=25)\n",
        "ax.tick_params(labelsize=20)\n",
        "plt.grid()\n",
        "plt.ioff()"
      ],
      "execution_count": 34,
      "outputs": [
        {
          "output_type": "display_data",
          "data": {
            "image/png": "[encoded data removed]",
            "text/plain": [
              "<Figure size 1008x432 with 1 Axes>"
            ]
          },
          "metadata": {
            "needs_background": "light"
          }
        }
      ]
    },
    {
      "cell_type": "code",
      "metadata": {
        "id": "-WyE5MGhedGc"
      },
      "source": [
        "# Using sklearn to develop the ML Model"
      ],
      "execution_count": null,
      "outputs": []
    },
    {
      "cell_type": "code",
      "metadata": {
        "colab": {
          "base_uri": "https://localhost:8080/"
        },
        "id": "GVzJ9rkeelvs",
        "outputId": "e7812001-646a-45b5-eacc-0a9ba4c80aeb"
      },
      "source": [
        "# Scaling the data between 0 and 1.\n",
        "from sklearn import preprocessing\n",
        "minmax = preprocessing.MinMaxScaler(feature_range=(0,1))\n",
        "minmax.fit(x).transform(x)"
      ],
      "execution_count": 35,
      "outputs": [
        {
          "output_type": "execute_result",
          "data": {
            "text/plain": [
              "array([[0.        , 0.        , 0.        , 0.01340483, 0.19458988,\n",
              "        0.32250987, 0.32137664, 1.        , 0.16083086, 0.23635273,\n",
              "        0.00215169, 0.        , 0.        ],\n",
              "       [0.03125   , 0.        , 0.        , 1.        , 0.65357766,\n",
              "        0.38218517, 0.20310228, 0.51482341, 0.47893175, 0.37222555,\n",
              "        0.23023131, 0.        , 0.        ],\n",
              "       [0.03125   , 0.        , 0.        , 0.        , 0.09947644,\n",
              "        0.49539272, 0.04362579, 0.33230214, 0.06765579, 0.24805039,\n",
              "        0.        , 0.        , 0.        ],\n",
              "       [0.09375   , 0.        , 0.        , 0.29624665, 0.29057592,\n",
              "        0.78367705, 0.42074649, 0.08868265, 0.15588526, 0.        ,\n",
              "        0.        , 0.        , 0.        ],\n",
              "       [0.125     , 0.        , 0.        , 0.56568365, 0.        ,\n",
              "        0.12417727, 0.17498788, 0.73137407, 0.13353116, 0.4205159 ,\n",
              "        0.05540613, 0.        , 0.        ],\n",
              "       [0.15625   , 0.        , 0.        , 0.07774799, 0.12129145,\n",
              "        0.05089952, 0.55647116, 0.55684455, 0.24688427, 0.80983803,\n",
              "        0.3598709 , 0.        , 0.        ],\n",
              "       [0.1875    , 0.        , 0.        , 0.08310992, 0.        ,\n",
              "        0.09390083, 0.51429956, 0.        , 0.21543027, 0.37942412,\n",
              "        0.20064551, 0.        , 0.        ],\n",
              "       [0.21875   , 0.        , 0.        , 0.        , 0.36125654,\n",
              "        0.        , 0.80562288, 0.38102604, 0.55845697, 0.27414517,\n",
              "        0.00806885, 0.        , 0.        ],\n",
              "       [0.25      , 0.        , 0.        , 0.        , 0.        ,\n",
              "        0.28126371, 0.69995153, 0.69914927, 0.        , 0.48290342,\n",
              "        0.42065627, 0.        , 0.        ],\n",
              "       [0.28125   , 0.        , 0.        , 0.        , 0.35427574,\n",
              "        0.28609039, 0.1565681 , 0.51224542, 0.10900099, 0.5254949 ,\n",
              "        0.        , 0.        , 0.        ],\n",
              "       [0.3125    , 0.        , 0.        , 0.04557641, 0.7408377 ,\n",
              "        1.        , 1.        , 0.55813354, 0.07121662, 0.24025195,\n",
              "        0.        , 0.        , 0.        ],\n",
              "       [0.34375   , 0.        , 0.        , 0.        , 0.0017452 ,\n",
              "        0.56208864, 0.36403296, 0.5320959 , 0.41068249, 0.67966407,\n",
              "        0.        , 0.        , 0.        ],\n",
              "       [0.375     , 0.        , 0.        , 0.        , 0.        ,\n",
              "        0.62483545, 0.36839554, 0.70275844, 0.02532146, 0.40191962,\n",
              "        0.4873588 , 0.        , 0.        ],\n",
              "       [0.40625   , 0.        , 0.        , 0.10053619, 0.86736475,\n",
              "        0.18078104, 0.86039748, 0.52101057, 0.72225519, 0.82243551,\n",
              "        1.        , 0.        , 0.        ],\n",
              "       [0.4375    , 0.        , 0.        , 0.10455764, 1.        ,\n",
              "        0.21325143, 0.45904023, 0.62232534, 0.2834817 , 0.80383923,\n",
              "        0.46207639, 0.        , 0.        ],\n",
              "       [0.46875   , 0.        , 0.        , 0.        , 0.04363002,\n",
              "        0.48222905, 0.52884149, 0.44547564, 0.19228487, 0.47420516,\n",
              "        0.2619688 , 0.        , 0.        ],\n",
              "       [0.5       , 0.        , 0.        , 0.        , 0.52094241,\n",
              "        0.37867486, 0.64129908, 0.45784996, 0.30919881, 0.54889022,\n",
              "        0.3894567 , 0.96148738, 1.        ],\n",
              "       [0.53125   , 0.        , 0.        , 0.        , 0.45026178,\n",
              "        0.30978499, 0.30780417, 0.26656355, 0.36340257, 0.30593881,\n",
              "        0.39698763, 0.        , 0.        ],\n",
              "       [0.5625    , 0.        , 0.        , 0.        , 0.34642234,\n",
              "        0.1904344 , 0.40087252, 0.59577211, 1.        , 0.93191362,\n",
              "        0.89887036, 0.        , 0.        ],\n",
              "       [0.59375   , 0.        , 0.        , 0.        , 0.02268761,\n",
              "        0.39096095, 0.04411052, 0.60814643, 0.45103858, 0.52729454,\n",
              "        0.39752555, 0.        , 0.        ],\n",
              "       [0.625     , 0.        , 0.        , 0.        , 0.73385689,\n",
              "        0.31417288, 0.94571013, 0.290281  , 0.5066271 , 0.73635273,\n",
              "        0.21516945, 0.        , 0.        ],\n",
              "       [0.65625   , 0.        , 0.        , 0.        , 0.32373473,\n",
              "        0.06450197, 0.10421716, 0.57927301, 0.20751731, 0.49340132,\n",
              "        0.90640129, 0.        , 0.        ],\n",
              "       [0.6875    , 0.        , 0.        , 0.04557641, 0.21815009,\n",
              "        0.34488811, 0.41056714, 0.30162413, 0.20514342, 0.15746851,\n",
              "        0.24206563, 0.        , 0.        ],\n",
              "       [0.71875   , 0.        , 0.        , 0.00536193, 0.42582897,\n",
              "        0.39403247, 0.35142996, 0.65145656, 0.15173096, 0.6109778 ,\n",
              "        0.04249597, 0.        , 0.        ],\n",
              "       [0.75      , 0.        , 0.        , 0.06702413, 0.12216405,\n",
              "        0.34181659, 0.65438682, 0.58958494, 0.24648863, 0.52009598,\n",
              "        0.32974718, 0.        , 0.        ],\n",
              "       [0.78125   , 0.        , 0.        , 0.        , 0.26614311,\n",
              "        0.47345327, 0.69752787, 0.54653261, 0.35054402, 0.45020996,\n",
              "        0.24206563, 0.        , 0.        ],\n",
              "       [0.8125    , 0.        , 0.        , 0.        , 0.40488656,\n",
              "        0.55199649, 0.5133301 , 0.38076824, 0.30108803, 0.38572286,\n",
              "        0.        , 0.        , 0.        ],\n",
              "       [0.84375   , 0.        , 0.        , 0.        , 0.2443281 ,\n",
              "        0.50416849, 0.46825012, 0.49187935, 0.46429278, 1.        ,\n",
              "        0.21624529, 1.        , 0.32827586],\n",
              "       [0.875     , 0.        , 0.        , 0.        , 0.7408377 ,\n",
              "        0.26415094, 0.42220068, 0.58417118, 0.66745796, 0.5224955 ,\n",
              "        0.1936525 , 0.        , 0.        ],\n",
              "       [0.90625   , 0.        , 0.        , 0.        , 0.03141361,\n",
              "        0.46862659, 0.34561318, 0.67336943, 0.49891197, 0.41361728,\n",
              "        0.58956428, 0.        , 0.        ],\n",
              "       [0.9375    , 0.        , 0.        , 0.        , 0.09773124,\n",
              "        0.11189118, 0.23654872, 0.50193349, 0.4140455 , 0.59178164,\n",
              "        0.72404519, 0.        , 0.        ],\n",
              "       [0.96875   , 0.        , 0.        , 0.37533512, 0.495637  ,\n",
              "        0.68758227, 0.        , 0.65558134, 0.11968348, 0.51079784,\n",
              "        0.22162453, 0.        , 0.        ],\n",
              "       [1.        , 0.        , 0.        , 0.        , 0.0104712 ,\n",
              "        0.33874506, 0.53223461, 0.13714875, 0.24154303, 0.02819436,\n",
              "        0.72404519, 0.        , 0.        ]])"
            ]
          },
          "metadata": {},
          "execution_count": 35
        }
      ]
    },
    {
      "cell_type": "code",
      "metadata": {
        "colab": {
          "base_uri": "https://localhost:8080/",
          "height": 206
        },
        "id": "O9TJRIkYeru7",
        "outputId": "c91d43e1-21e7-4cfd-9aec-5bd5d11ed07d"
      },
      "source": [
        "#dividing the dataset into training dataset and test dataset. \n",
        "from sklearn import model_selection,neighbors\n",
        "from sklearn.model_selection import train_test_split\n",
        "x_train,x_test,y_train,y_test=train_test_split(x,y,test_size=0.2)\n",
        "x_train.head()"
      ],
      "execution_count": 36,
      "outputs": [
        {
          "output_type": "execute_result",
          "data": {
            "text/html": [
              "<div>\n",
              "<style scoped>\n",
              "    .dataframe tbody tr th:only-of-type {\n",
              "        vertical-align: middle;\n",
              "    }\n",
              "\n",
              "    .dataframe tbody tr th {\n",
              "        vertical-align: top;\n",
              "    }\n",
              "\n",
              "    .dataframe thead th {\n",
              "        text-align: right;\n",
              "    }\n",
              "</style>\n",
              "<table border=\"1\" class=\"dataframe\">\n",
              "  <thead>\n",
              "    <tr style=\"text-align: right;\">\n",
              "      <th></th>\n",
              "      <th>YEAR</th>\n",
              "      <th>JAN</th>\n",
              "      <th>FEB</th>\n",
              "      <th>MAR</th>\n",
              "      <th>APR</th>\n",
              "      <th>MAY</th>\n",
              "      <th>JUN</th>\n",
              "      <th>JUL</th>\n",
              "      <th>AUG</th>\n",
              "      <th>SEP</th>\n",
              "      <th>OCT</th>\n",
              "      <th>NOV</th>\n",
              "      <th>DEC</th>\n",
              "    </tr>\n",
              "  </thead>\n",
              "  <tbody>\n",
              "    <tr>\n",
              "      <th>1</th>\n",
              "      <td>1982</td>\n",
              "      <td>0</td>\n",
              "      <td>0</td>\n",
              "      <td>74.6</td>\n",
              "      <td>74.9</td>\n",
              "      <td>98.5</td>\n",
              "      <td>92.2</td>\n",
              "      <td>199.7</td>\n",
              "      <td>344.9</td>\n",
              "      <td>144.0</td>\n",
              "      <td>42.8</td>\n",
              "      <td>0.0</td>\n",
              "      <td>0.0</td>\n",
              "    </tr>\n",
              "    <tr>\n",
              "      <th>2</th>\n",
              "      <td>1982</td>\n",
              "      <td>0</td>\n",
              "      <td>0</td>\n",
              "      <td>0.0</td>\n",
              "      <td>11.4</td>\n",
              "      <td>124.3</td>\n",
              "      <td>59.3</td>\n",
              "      <td>128.9</td>\n",
              "      <td>137.0</td>\n",
              "      <td>102.6</td>\n",
              "      <td>0.0</td>\n",
              "      <td>0.0</td>\n",
              "      <td>0.0</td>\n",
              "    </tr>\n",
              "    <tr>\n",
              "      <th>9</th>\n",
              "      <td>1990</td>\n",
              "      <td>0</td>\n",
              "      <td>0</td>\n",
              "      <td>0.0</td>\n",
              "      <td>40.6</td>\n",
              "      <td>76.6</td>\n",
              "      <td>82.6</td>\n",
              "      <td>198.7</td>\n",
              "      <td>157.9</td>\n",
              "      <td>195.1</td>\n",
              "      <td>0.0</td>\n",
              "      <td>0.0</td>\n",
              "      <td>0.0</td>\n",
              "    </tr>\n",
              "    <tr>\n",
              "      <th>20</th>\n",
              "      <td>2001</td>\n",
              "      <td>0</td>\n",
              "      <td>0</td>\n",
              "      <td>0.0</td>\n",
              "      <td>84.1</td>\n",
              "      <td>83.0</td>\n",
              "      <td>245.4</td>\n",
              "      <td>112.6</td>\n",
              "      <td>358.9</td>\n",
              "      <td>265.4</td>\n",
              "      <td>40.0</td>\n",
              "      <td>0.0</td>\n",
              "      <td>0.0</td>\n",
              "    </tr>\n",
              "    <tr>\n",
              "      <th>19</th>\n",
              "      <td>2000</td>\n",
              "      <td>0</td>\n",
              "      <td>0</td>\n",
              "      <td>0.0</td>\n",
              "      <td>2.6</td>\n",
              "      <td>100.5</td>\n",
              "      <td>59.4</td>\n",
              "      <td>235.9</td>\n",
              "      <td>330.8</td>\n",
              "      <td>195.7</td>\n",
              "      <td>73.9</td>\n",
              "      <td>0.0</td>\n",
              "      <td>0.0</td>\n",
              "    </tr>\n",
              "  </tbody>\n",
              "</table>\n",
              "</div>"
            ],
            "text/plain": [
              "    YEAR  JAN  FEB   MAR   APR    MAY  ...    JUL    AUG    SEP   OCT  NOV  DEC\n",
              "1   1982    0    0  74.6  74.9   98.5  ...  199.7  344.9  144.0  42.8  0.0  0.0\n",
              "2   1982    0    0   0.0  11.4  124.3  ...  128.9  137.0  102.6   0.0  0.0  0.0\n",
              "9   1990    0    0   0.0  40.6   76.6  ...  198.7  157.9  195.1   0.0  0.0  0.0\n",
              "20  2001    0    0   0.0  84.1   83.0  ...  112.6  358.9  265.4  40.0  0.0  0.0\n",
              "19  2000    0    0   0.0   2.6  100.5  ...  235.9  330.8  195.7  73.9  0.0  0.0\n",
              "\n",
              "[5 rows x 13 columns]"
            ]
          },
          "metadata": {},
          "execution_count": 36
        }
      ]
    },
    {
      "cell_type": "code",
      "metadata": {
        "colab": {
          "base_uri": "https://localhost:8080/"
        },
        "id": "U37P6iK7ex1l",
        "outputId": "5e1e9992-512a-4573-c396-f1a8064f6db3"
      },
      "source": [
        "x_train.dtypes"
      ],
      "execution_count": 37,
      "outputs": [
        {
          "output_type": "execute_result",
          "data": {
            "text/plain": [
              "YEAR      int64\n",
              "JAN       int64\n",
              "FEB       int64\n",
              "MAR     float64\n",
              "APR     float64\n",
              "MAY     float64\n",
              "JUN     float64\n",
              "JUL     float64\n",
              "AUG     float64\n",
              "SEP     float64\n",
              "OCT     float64\n",
              "NOV     float64\n",
              "DEC     float64\n",
              "dtype: object"
            ]
          },
          "metadata": {},
          "execution_count": 37
        }
      ]
    },
    {
      "cell_type": "code",
      "metadata": {
        "colab": {
          "base_uri": "https://localhost:8080/",
          "height": 206
        },
        "id": "I5bBNNzFe26c",
        "outputId": "b08f0a28-4540-4894-b66a-3fb533cadd60"
      },
      "source": [
        "x_test.head()"
      ],
      "execution_count": 38,
      "outputs": [
        {
          "output_type": "execute_result",
          "data": {
            "text/html": [
              "<div>\n",
              "<style scoped>\n",
              "    .dataframe tbody tr th:only-of-type {\n",
              "        vertical-align: middle;\n",
              "    }\n",
              "\n",
              "    .dataframe tbody tr th {\n",
              "        vertical-align: top;\n",
              "    }\n",
              "\n",
              "    .dataframe thead th {\n",
              "        text-align: right;\n",
              "    }\n",
              "</style>\n",
              "<table border=\"1\" class=\"dataframe\">\n",
              "  <thead>\n",
              "    <tr style=\"text-align: right;\">\n",
              "      <th></th>\n",
              "      <th>YEAR</th>\n",
              "      <th>JAN</th>\n",
              "      <th>FEB</th>\n",
              "      <th>MAR</th>\n",
              "      <th>APR</th>\n",
              "      <th>MAY</th>\n",
              "      <th>JUN</th>\n",
              "      <th>JUL</th>\n",
              "      <th>AUG</th>\n",
              "      <th>SEP</th>\n",
              "      <th>OCT</th>\n",
              "      <th>NOV</th>\n",
              "      <th>DEC</th>\n",
              "    </tr>\n",
              "  </thead>\n",
              "  <tbody>\n",
              "    <tr>\n",
              "      <th>15</th>\n",
              "      <td>1996</td>\n",
              "      <td>0</td>\n",
              "      <td>0</td>\n",
              "      <td>0.0</td>\n",
              "      <td>5.0</td>\n",
              "      <td>121.3</td>\n",
              "      <td>159.4</td>\n",
              "      <td>172.8</td>\n",
              "      <td>200.0</td>\n",
              "      <td>178.0</td>\n",
              "      <td>48.7</td>\n",
              "      <td>0.0</td>\n",
              "      <td>0.0</td>\n",
              "    </tr>\n",
              "    <tr>\n",
              "      <th>31</th>\n",
              "      <td>2012</td>\n",
              "      <td>0</td>\n",
              "      <td>0</td>\n",
              "      <td>28.0</td>\n",
              "      <td>56.8</td>\n",
              "      <td>168.1</td>\n",
              "      <td>50.3</td>\n",
              "      <td>254.3</td>\n",
              "      <td>163.3</td>\n",
              "      <td>190.2</td>\n",
              "      <td>41.2</td>\n",
              "      <td>0.0</td>\n",
              "      <td>0.0</td>\n",
              "    </tr>\n",
              "    <tr>\n",
              "      <th>21</th>\n",
              "      <td>2002</td>\n",
              "      <td>0</td>\n",
              "      <td>0</td>\n",
              "      <td>0.0</td>\n",
              "      <td>37.1</td>\n",
              "      <td>26.1</td>\n",
              "      <td>71.8</td>\n",
              "      <td>224.7</td>\n",
              "      <td>207.7</td>\n",
              "      <td>184.4</td>\n",
              "      <td>168.5</td>\n",
              "      <td>0.0</td>\n",
              "      <td>0.0</td>\n",
              "    </tr>\n",
              "    <tr>\n",
              "      <th>16</th>\n",
              "      <td>1997</td>\n",
              "      <td>0</td>\n",
              "      <td>0</td>\n",
              "      <td>0.0</td>\n",
              "      <td>59.7</td>\n",
              "      <td>97.7</td>\n",
              "      <td>182.6</td>\n",
              "      <td>177.6</td>\n",
              "      <td>259.1</td>\n",
              "      <td>202.9</td>\n",
              "      <td>72.4</td>\n",
              "      <td>72.4</td>\n",
              "      <td>72.5</td>\n",
              "    </tr>\n",
              "    <tr>\n",
              "      <th>26</th>\n",
              "      <td>2007</td>\n",
              "      <td>0</td>\n",
              "      <td>0</td>\n",
              "      <td>0.0</td>\n",
              "      <td>46.4</td>\n",
              "      <td>137.2</td>\n",
              "      <td>156.2</td>\n",
              "      <td>147.7</td>\n",
              "      <td>255.0</td>\n",
              "      <td>148.5</td>\n",
              "      <td>0.0</td>\n",
              "      <td>0.0</td>\n",
              "      <td>0.0</td>\n",
              "    </tr>\n",
              "  </tbody>\n",
              "</table>\n",
              "</div>"
            ],
            "text/plain": [
              "    YEAR  JAN  FEB   MAR   APR    MAY  ...    JUL    AUG    SEP    OCT   NOV   DEC\n",
              "15  1996    0    0   0.0   5.0  121.3  ...  172.8  200.0  178.0   48.7   0.0   0.0\n",
              "31  2012    0    0  28.0  56.8  168.1  ...  254.3  163.3  190.2   41.2   0.0   0.0\n",
              "21  2002    0    0   0.0  37.1   26.1  ...  224.7  207.7  184.4  168.5   0.0   0.0\n",
              "16  1997    0    0   0.0  59.7   97.7  ...  177.6  259.1  202.9   72.4  72.4  72.5\n",
              "26  2007    0    0   0.0  46.4  137.2  ...  147.7  255.0  148.5    0.0   0.0   0.0\n",
              "\n",
              "[5 rows x 13 columns]"
            ]
          },
          "metadata": {},
          "execution_count": 38
        }
      ]
    },
    {
      "cell_type": "code",
      "metadata": {
        "colab": {
          "base_uri": "https://localhost:8080/"
        },
        "id": "1D_CZPY-e8TJ",
        "outputId": "307ecc62-8872-41f1-c5e6-29d5a473e94e"
      },
      "source": [
        "# type casting.\n",
        "y_train=y_train.astype('int')\n",
        "y_train"
      ],
      "execution_count": 39,
      "outputs": [
        {
          "output_type": "execute_result",
          "data": {
            "text/plain": [
              "1     1\n",
              "2     0\n",
              "9     0\n",
              "20    1\n",
              "19    1\n",
              "32    0\n",
              "18    1\n",
              "11    1\n",
              "14    1\n",
              "7     0\n",
              "8     0\n",
              "12    0\n",
              "28    1\n",
              "30    1\n",
              "3     0\n",
              "10    1\n",
              "24    1\n",
              "29    1\n",
              "4     0\n",
              "13    1\n",
              "6     0\n",
              "27    1\n",
              "22    0\n",
              "25    1\n",
              "0     0\n",
              "17    0\n",
              "Name: Floods, dtype: int64"
            ]
          },
          "metadata": {},
          "execution_count": 39
        }
      ]
    },
    {
      "cell_type": "code",
      "metadata": {
        "colab": {
          "base_uri": "https://localhost:8080/"
        },
        "id": "Q5dRpVHSfLT7",
        "outputId": "81a11dfb-dbc9-4bde-f264-2eaa6f8c5ac3"
      },
      "source": [
        "y_test=y_test.astype('int')\n",
        "y_test"
      ],
      "execution_count": 40,
      "outputs": [
        {
          "output_type": "execute_result",
          "data": {
            "text/plain": [
              "15    0\n",
              "31    0\n",
              "21    0\n",
              "16    1\n",
              "26    0\n",
              "23    0\n",
              "5     1\n",
              "Name: Floods, dtype: int64"
            ]
          },
          "metadata": {},
          "execution_count": 40
        }
      ]
    },
    {
      "cell_type": "code",
      "metadata": {
        "id": "ujEAqciFfOIT"
      },
      "source": [
        "# Using Prediction Algorithms:"
      ],
      "execution_count": null,
      "outputs": []
    },
    {
      "cell_type": "code",
      "metadata": {
        "id": "7-yOmmAYfWTD"
      },
      "source": [
        "# KNN classifier to predict"
      ],
      "execution_count": null,
      "outputs": []
    },
    {
      "cell_type": "code",
      "metadata": {
        "colab": {
          "base_uri": "https://localhost:8080/"
        },
        "id": "9Y8JMB2MfcfL",
        "outputId": "8130317f-a865-4ea0-eb2a-85223724be98"
      },
      "source": [
        "clf=neighbors.KNeighborsClassifier()\n",
        "clf.fit(x_train,y_train)"
      ],
      "execution_count": 41,
      "outputs": [
        {
          "output_type": "execute_result",
          "data": {
            "text/plain": [
              "KNeighborsClassifier(algorithm='auto', leaf_size=30, metric='minkowski',\n",
              "                     metric_params=None, n_jobs=None, n_neighbors=5, p=2,\n",
              "                     weights='uniform')"
            ]
          },
          "metadata": {},
          "execution_count": 41
        }
      ]
    },
    {
      "cell_type": "code",
      "metadata": {
        "colab": {
          "base_uri": "https://localhost:8080/"
        },
        "id": "KShbI7hQfovS",
        "outputId": "0458ac9b-07ec-4f1e-b5e0-1dcd5cceb276"
      },
      "source": [
        "# Predicted chance of Flood.\n",
        "print(\"Predicted Values for the Floods:\")\n",
        "y_predict=clf.predict(x_test)\n",
        "y_predict"
      ],
      "execution_count": 42,
      "outputs": [
        {
          "output_type": "stream",
          "name": "stdout",
          "text": [
            "Predicted Values for the Floods:\n"
          ]
        },
        {
          "output_type": "execute_result",
          "data": {
            "text/plain": [
              "array([0, 0, 1, 1, 1, 0, 1])"
            ]
          },
          "metadata": {},
          "execution_count": 42
        }
      ]
    },
    {
      "cell_type": "code",
      "metadata": {
        "colab": {
          "base_uri": "https://localhost:8080/"
        },
        "id": "4QzyBmjQfuJS",
        "outputId": "5e77296c-ff8a-4fb9-d4cb-c331968ef19d"
      },
      "source": [
        "print(\"Actual Values for the Floods:\")\n",
        "print(y_test)"
      ],
      "execution_count": 43,
      "outputs": [
        {
          "output_type": "stream",
          "name": "stdout",
          "text": [
            "Actual Values for the Floods:\n",
            "15    0\n",
            "31    0\n",
            "21    0\n",
            "16    1\n",
            "26    0\n",
            "23    0\n",
            "5     1\n",
            "Name: Floods, dtype: int64\n"
          ]
        }
      ]
    },
    {
      "cell_type": "code",
      "metadata": {
        "colab": {
          "base_uri": "https://localhost:8080/"
        },
        "id": "pMAGU9YTf-cR",
        "outputId": "5b924057-f5df-4668-b388-9bbffe5be50b"
      },
      "source": [
        "print(\"List of the Predicted Values:\")\n",
        "print(y_predict)"
      ],
      "execution_count": 44,
      "outputs": [
        {
          "output_type": "stream",
          "name": "stdout",
          "text": [
            "List of the Predicted Values:\n",
            "[0 0 1 1 1 0 1]\n"
          ]
        }
      ]
    },
    {
      "cell_type": "code",
      "metadata": {
        "id": "mdordt_-gG2y"
      },
      "source": [
        "# Scaling the dataset.\n",
        "from sklearn.model_selection import cross_val_score,cross_val_predict\n",
        "x_train_std= minmax.fit_transform(x_train)\n",
        "x_test_std= minmax.fit_transform(x_test)\n",
        "knn_acc=cross_val_score(clf,x_train_std,y_train,cv=3,scoring='accuracy',n_jobs=-1)\n",
        "knn_proba=cross_val_predict(clf,x_train_std,y_train,cv=3,method='predict_proba')"
      ],
      "execution_count": 45,
      "outputs": []
    },
    {
      "cell_type": "code",
      "metadata": {
        "colab": {
          "base_uri": "https://localhost:8080/"
        },
        "id": "R4tu_rCOhm7c",
        "outputId": "a56df3ef-22db-4f0c-bc41-9898d074f50b"
      },
      "source": [
        "knn_acc"
      ],
      "execution_count": 46,
      "outputs": [
        {
          "output_type": "execute_result",
          "data": {
            "text/plain": [
              "array([0.66666667, 0.66666667, 0.875     ])"
            ]
          },
          "metadata": {},
          "execution_count": 46
        }
      ]
    },
    {
      "cell_type": "code",
      "metadata": {
        "colab": {
          "base_uri": "https://localhost:8080/"
        },
        "id": "7i6Sa2Z4h0ph",
        "outputId": "b9ec31a8-d5a1-49e2-ad74-cd774d19fa52"
      },
      "source": [
        "knn_proba"
      ],
      "execution_count": 47,
      "outputs": [
        {
          "output_type": "execute_result",
          "data": {
            "text/plain": [
              "array([[0.8, 0.2],\n",
              "       [1. , 0. ],\n",
              "       [1. , 0. ],\n",
              "       [0.2, 0.8],\n",
              "       [0.4, 0.6],\n",
              "       [0.4, 0.6],\n",
              "       [0. , 1. ],\n",
              "       [0.6, 0.4],\n",
              "       [0.4, 0.6],\n",
              "       [0.6, 0.4],\n",
              "       [0.6, 0.4],\n",
              "       [0.2, 0.8],\n",
              "       [0.4, 0.6],\n",
              "       [0.6, 0.4],\n",
              "       [1. , 0. ],\n",
              "       [0.6, 0.4],\n",
              "       [0.4, 0.6],\n",
              "       [0.4, 0.6],\n",
              "       [0.6, 0.4],\n",
              "       [0. , 1. ],\n",
              "       [0.8, 0.2],\n",
              "       [0. , 1. ],\n",
              "       [0.6, 0.4],\n",
              "       [0.2, 0.8],\n",
              "       [1. , 0. ],\n",
              "       [0.2, 0.8]])"
            ]
          },
          "metadata": {},
          "execution_count": 47
        }
      ]
    },
    {
      "cell_type": "code",
      "metadata": {
        "id": "oDmsM4TJh-bY"
      },
      "source": [
        "# Checking Model Accuracy ?"
      ],
      "execution_count": null,
      "outputs": []
    },
    {
      "cell_type": "code",
      "metadata": {
        "colab": {
          "base_uri": "https://localhost:8080/"
        },
        "id": "OCbXv_4hibSA",
        "outputId": "cbf35445-1604-4335-d261-a37382e058a7"
      },
      "source": [
        "from sklearn.metrics import accuracy_score,recall_score,roc_auc_score,confusion_matrix\n",
        "print(\"\\nAccuracy Score:%f\"%(accuracy_score(y_test,y_predict)*100))\n",
        "print(\"Recall Score:%f\"%(recall_score(y_test,y_predict)*100))\n",
        "print(\"ROC score:%f\"%(roc_auc_score(y_test,y_predict)*100))\n",
        "print(confusion_matrix(y_test,y_predict))"
      ],
      "execution_count": 49,
      "outputs": [
        {
          "output_type": "stream",
          "name": "stdout",
          "text": [
            "\n",
            "Accuracy Score:71.428571\n",
            "Recall Score:100.000000\n",
            "ROC score:80.000000\n",
            "[[3 2]\n",
            " [0 2]]\n"
          ]
        }
      ]
    },
    {
      "cell_type": "code",
      "metadata": {
        "id": "gsWv1uTdi0UA"
      },
      "source": [
        "# Logistic Regression to predict"
      ],
      "execution_count": null,
      "outputs": []
    },
    {
      "cell_type": "code",
      "metadata": {
        "id": "nST06yt-i2ci"
      },
      "source": [
        "x_train_std=minmax.fit_transform(x_train)         # fit the values in between 0 and 1.\n",
        "y_train_std=minmax.transform(x_test)\n",
        "\n",
        "from sklearn.model_selection import cross_val_score,cross_val_predict\n",
        "from sklearn.linear_model import LogisticRegression\n",
        "lr=LogisticRegression()\n",
        "lr.fit(x_train,y_train)\n",
        "lr_acc=cross_val_score(lr,x_train_std,y_train,cv=3,scoring='accuracy',n_jobs=-1)\n",
        "lr_proba=cross_val_predict(lr,x_train_std,y_train,cv=3,method='predict_proba')"
      ],
      "execution_count": 50,
      "outputs": []
    },
    {
      "cell_type": "code",
      "metadata": {
        "colab": {
          "base_uri": "https://localhost:8080/"
        },
        "id": "BlfXXtSpi-in",
        "outputId": "2d47fc11-5697-4e97-a19f-9cad5e727aff"
      },
      "source": [
        "lr_acc"
      ],
      "execution_count": 51,
      "outputs": [
        {
          "output_type": "execute_result",
          "data": {
            "text/plain": [
              "array([0.55555556, 0.88888889, 0.875     ])"
            ]
          },
          "metadata": {},
          "execution_count": 51
        }
      ]
    },
    {
      "cell_type": "code",
      "metadata": {
        "colab": {
          "base_uri": "https://localhost:8080/"
        },
        "id": "9fch6kfnjDzv",
        "outputId": "d2ca6358-1f14-45f4-fe6c-93804e382e3f"
      },
      "source": [
        "lr_proba"
      ],
      "execution_count": 52,
      "outputs": [
        {
          "output_type": "execute_result",
          "data": {
            "text/plain": [
              "array([[0.60796236, 0.39203764],\n",
              "       [0.77545979, 0.22454021],\n",
              "       [0.61586835, 0.38413165],\n",
              "       [0.2600967 , 0.7399033 ],\n",
              "       [0.51035588, 0.48964412],\n",
              "       [0.46484916, 0.53515084],\n",
              "       [0.24014285, 0.75985715],\n",
              "       [0.55165036, 0.44834964],\n",
              "       [0.33588465, 0.66411535],\n",
              "       [0.54208949, 0.45791051],\n",
              "       [0.55136896, 0.44863104],\n",
              "       [0.52369141, 0.47630859],\n",
              "       [0.34259443, 0.65740557],\n",
              "       [0.38369385, 0.61630615],\n",
              "       [0.69289249, 0.30710751],\n",
              "       [0.51251057, 0.48748943],\n",
              "       [0.43816392, 0.56183608],\n",
              "       [0.3636514 , 0.6363486 ],\n",
              "       [0.57917192, 0.42082808],\n",
              "       [0.17564506, 0.82435494],\n",
              "       [0.63920152, 0.36079848],\n",
              "       [0.2594219 , 0.7405781 ],\n",
              "       [0.52663872, 0.47336128],\n",
              "       [0.37542438, 0.62457562],\n",
              "       [0.60728242, 0.39271758],\n",
              "       [0.44048925, 0.55951075]])"
            ]
          },
          "metadata": {},
          "execution_count": 52
        }
      ]
    },
    {
      "cell_type": "code",
      "metadata": {
        "colab": {
          "base_uri": "https://localhost:8080/"
        },
        "id": "woCLJKLdjI74",
        "outputId": "8d448735-cedc-4c8c-f7b0-cf9c016d996f"
      },
      "source": [
        "y_pred=lr.predict(x_test)\n",
        "y_pred"
      ],
      "execution_count": 53,
      "outputs": [
        {
          "output_type": "execute_result",
          "data": {
            "text/plain": [
              "array([1, 1, 0, 1, 1, 1, 1])"
            ]
          },
          "metadata": {},
          "execution_count": 53
        }
      ]
    },
    {
      "cell_type": "code",
      "metadata": {
        "colab": {
          "base_uri": "https://localhost:8080/"
        },
        "id": "v_o0tk11jQyg",
        "outputId": "868e3771-728e-43fd-cac4-dcf82b5c8861"
      },
      "source": [
        "print(y_test.values)"
      ],
      "execution_count": 54,
      "outputs": [
        {
          "output_type": "stream",
          "name": "stdout",
          "text": [
            "[0 0 0 1 0 0 1]\n"
          ]
        }
      ]
    },
    {
      "cell_type": "code",
      "metadata": {
        "colab": {
          "base_uri": "https://localhost:8080/"
        },
        "id": "VKOibmhYjXBQ",
        "outputId": "6db9ee79-36ae-4b06-9d55-a9568afcc921"
      },
      "source": [
        "print(\"List of the Predicted Values:\")\n",
        "print(y_pred)"
      ],
      "execution_count": 55,
      "outputs": [
        {
          "output_type": "stream",
          "name": "stdout",
          "text": [
            "List of the Predicted Values:\n",
            "[1 1 0 1 1 1 1]\n"
          ]
        }
      ]
    },
    {
      "cell_type": "code",
      "metadata": {
        "id": "YZLZO-M4jZC-"
      },
      "source": [
        "# Accuracy and Efficiency of our Model"
      ],
      "execution_count": null,
      "outputs": []
    },
    {
      "cell_type": "code",
      "metadata": {
        "colab": {
          "base_uri": "https://localhost:8080/"
        },
        "id": "oN3HtlzEjgo2",
        "outputId": "f6187ff3-ff09-4264-ad88-0dc1ef0887e2"
      },
      "source": [
        "from sklearn.metrics import accuracy_score,recall_score,roc_auc_score,confusion_matrix\n",
        "print(\"\\naccuracy score:%f\"%(accuracy_score(y_test,y_pred)*100))\n",
        "print(\"recall score:%f\"%(recall_score(y_test,y_pred)*100))\n",
        "print(\"roc score:%f\"%(roc_auc_score(y_test,y_pred)*100))\n",
        "print(confusion_matrix(y_test,y_pred))"
      ],
      "execution_count": 56,
      "outputs": [
        {
          "output_type": "stream",
          "name": "stdout",
          "text": [
            "\n",
            "accuracy score:42.857143\n",
            "recall score:100.000000\n",
            "roc score:60.000000\n",
            "[[1 4]\n",
            " [0 2]]\n"
          ]
        }
      ]
    },
    {
      "cell_type": "code",
      "metadata": {
        "id": "mpK15GByjwxP"
      },
      "source": [
        "# Support Vector Classification to predict"
      ],
      "execution_count": null,
      "outputs": []
    },
    {
      "cell_type": "code",
      "metadata": {
        "id": "3RmeiBycj0Fe"
      },
      "source": [
        "from sklearn.svm import SVC\n",
        "svc=SVC(kernel='rbf',probability=True)\n",
        "svc_classifier=svc.fit(x_train,y_train)\n",
        "svc_acc=cross_val_score(svc_classifier,x_train_std,y_train,cv=3,scoring=\"accuracy\",n_jobs=-1)\n",
        "svc_proba=cross_val_predict(svc_classifier,x_train_std,y_train,cv=3,method='predict_proba')"
      ],
      "execution_count": 57,
      "outputs": []
    },
    {
      "cell_type": "code",
      "metadata": {
        "colab": {
          "base_uri": "https://localhost:8080/"
        },
        "id": "XniFFSBgj5J3",
        "outputId": "4082c22c-aa58-4e34-c39a-1c85cfd05471"
      },
      "source": [
        "svc_acc"
      ],
      "execution_count": 58,
      "outputs": [
        {
          "output_type": "execute_result",
          "data": {
            "text/plain": [
              "array([0.66666667, 0.88888889, 0.875     ])"
            ]
          },
          "metadata": {},
          "execution_count": 58
        }
      ]
    },
    {
      "cell_type": "code",
      "metadata": {
        "colab": {
          "base_uri": "https://localhost:8080/"
        },
        "id": "1iqPvyvPj9W2",
        "outputId": "03754156-643f-4fc3-823f-0f5ad0b23c2e"
      },
      "source": [
        "svc_proba"
      ],
      "execution_count": 59,
      "outputs": [
        {
          "output_type": "execute_result",
          "data": {
            "text/plain": [
              "array([[0.57639103, 0.42360897],\n",
              "       [0.99276153, 0.00723847],\n",
              "       [0.93819576, 0.06180424],\n",
              "       [0.01351779, 0.98648221],\n",
              "       [0.39650373, 0.60349627],\n",
              "       [0.21349094, 0.78650906],\n",
              "       [0.01866407, 0.98133593],\n",
              "       [0.70571674, 0.29428326],\n",
              "       [0.18413749, 0.81586251],\n",
              "       [0.62135042, 0.37864958],\n",
              "       [0.60164466, 0.39835534],\n",
              "       [0.43403988, 0.56596012],\n",
              "       [0.14115622, 0.85884378],\n",
              "       [0.15429622, 0.84570378],\n",
              "       [0.78515289, 0.21484711],\n",
              "       [0.3035391 , 0.6964609 ],\n",
              "       [0.20158395, 0.79841605],\n",
              "       [0.21708539, 0.78291461],\n",
              "       [0.62082406, 0.37917594],\n",
              "       [0.21812257, 0.78187743],\n",
              "       [0.73159859, 0.26840141],\n",
              "       [0.33824079, 0.66175921],\n",
              "       [0.58004749, 0.41995251],\n",
              "       [0.2673034 , 0.7326966 ],\n",
              "       [0.73822133, 0.26177867],\n",
              "       [0.42898374, 0.57101626]])"
            ]
          },
          "metadata": {},
          "execution_count": 59
        }
      ]
    },
    {
      "cell_type": "code",
      "metadata": {
        "colab": {
          "base_uri": "https://localhost:8080/"
        },
        "id": "mkqlT5VrkF1O",
        "outputId": "85dbe292-bd03-4495-9cd6-9ee737c95527"
      },
      "source": [
        "svc_scores=svc_proba[:,1]\n",
        "svc_scores"
      ],
      "execution_count": 60,
      "outputs": [
        {
          "output_type": "execute_result",
          "data": {
            "text/plain": [
              "array([0.42360897, 0.00723847, 0.06180424, 0.98648221, 0.60349627,\n",
              "       0.78650906, 0.98133593, 0.29428326, 0.81586251, 0.37864958,\n",
              "       0.39835534, 0.56596012, 0.85884378, 0.84570378, 0.21484711,\n",
              "       0.6964609 , 0.79841605, 0.78291461, 0.37917594, 0.78187743,\n",
              "       0.26840141, 0.66175921, 0.41995251, 0.7326966 , 0.26177867,\n",
              "       0.57101626])"
            ]
          },
          "metadata": {},
          "execution_count": 60
        }
      ]
    },
    {
      "cell_type": "code",
      "metadata": {
        "colab": {
          "base_uri": "https://localhost:8080/"
        },
        "id": "PnOtli5FkIQa",
        "outputId": "63213406-706b-4f88-a13f-14195e9c9b1b"
      },
      "source": [
        "y_pred=svc_classifier.predict(x_test)\n",
        "print(\"Actual Flood Values:\")\n",
        "print(y_test.values)"
      ],
      "execution_count": 61,
      "outputs": [
        {
          "output_type": "stream",
          "name": "stdout",
          "text": [
            "Actual Flood Values:\n",
            "[0 0 0 1 0 0 1]\n"
          ]
        }
      ]
    },
    {
      "cell_type": "code",
      "metadata": {
        "colab": {
          "base_uri": "https://localhost:8080/"
        },
        "id": "36p88Q4zkP7-",
        "outputId": "66948757-a5ec-4bb3-aef2-7b9d4b75062f"
      },
      "source": [
        "print(\"Predicted Flood Values:\")\n",
        "print(y_pred)"
      ],
      "execution_count": 62,
      "outputs": [
        {
          "output_type": "stream",
          "name": "stdout",
          "text": [
            "Predicted Flood Values:\n",
            "[1 1 1 1 1 1 1]\n"
          ]
        }
      ]
    },
    {
      "cell_type": "code",
      "metadata": {
        "id": "VnFt8rwPkUm2"
      },
      "source": [
        "# Accuracy of our model"
      ],
      "execution_count": null,
      "outputs": []
    },
    {
      "cell_type": "code",
      "metadata": {
        "colab": {
          "base_uri": "https://localhost:8080/"
        },
        "id": "Qk1c8DL6kWwl",
        "outputId": "b17b0d36-cf36-4899-e9e5-1fb56d4c8c7a"
      },
      "source": [
        "from sklearn.metrics import accuracy_score,recall_score,roc_auc_score,confusion_matrix\n",
        "print(\"\\naccuracy score:%f\"%(accuracy_score(y_test,y_pred)*100))\n",
        "print(\"recall score:%f\"%(recall_score(y_test,y_pred)*100))\n",
        "print(\"roc score:%f\"%(roc_auc_score(y_test,y_pred)*100))\n",
        "print(confusion_matrix(y_test,y_pred))"
      ],
      "execution_count": 63,
      "outputs": [
        {
          "output_type": "stream",
          "name": "stdout",
          "text": [
            "\n",
            "accuracy score:28.571429\n",
            "recall score:100.000000\n",
            "roc score:50.000000\n",
            "[[0 5]\n",
            " [0 2]]\n"
          ]
        }
      ]
    },
    {
      "cell_type": "code",
      "metadata": {
        "id": "vhFDMol9kbMm"
      },
      "source": [
        "# Decision Tree Classification to Predict"
      ],
      "execution_count": null,
      "outputs": []
    },
    {
      "cell_type": "code",
      "metadata": {
        "colab": {
          "base_uri": "https://localhost:8080/"
        },
        "id": "5muCGhc0kmfe",
        "outputId": "04b5590c-512c-4821-a72a-4c4e2467fabb"
      },
      "source": [
        "from sklearn.tree import DecisionTreeClassifier\n",
        "dtc_clf=DecisionTreeClassifier()\n",
        "dtc_clf.fit(x_train,y_train)\n",
        "dtc_clf_acc=cross_val_score(dtc_clf,x_train_std,y_train,cv=3,scoring=\"accuracy\",n_jobs=-1)\n",
        "dtc_clf_acc"
      ],
      "execution_count": 64,
      "outputs": [
        {
          "output_type": "execute_result",
          "data": {
            "text/plain": [
              "array([0.77777778, 0.66666667, 1.        ])"
            ]
          },
          "metadata": {},
          "execution_count": 64
        }
      ]
    },
    {
      "cell_type": "code",
      "metadata": {
        "colab": {
          "base_uri": "https://localhost:8080/"
        },
        "id": "1f8SGUuBk-ze",
        "outputId": "8442d808-e5dc-40f9-9c4f-4a2f470ac15f"
      },
      "source": [
        "print(\"Predicted Values:\")\n",
        "y_pred=dtc_clf.predict(x_test)\n",
        "y_pred"
      ],
      "execution_count": 65,
      "outputs": [
        {
          "output_type": "stream",
          "name": "stdout",
          "text": [
            "Predicted Values:\n"
          ]
        },
        {
          "output_type": "execute_result",
          "data": {
            "text/plain": [
              "array([0, 0, 0, 1, 1, 0, 1])"
            ]
          },
          "metadata": {},
          "execution_count": 65
        }
      ]
    },
    {
      "cell_type": "code",
      "metadata": {
        "colab": {
          "base_uri": "https://localhost:8080/"
        },
        "id": "tI59M9zElNON",
        "outputId": "920f14c8-c774-446e-cb19-46e986e0acfd"
      },
      "source": [
        "print(\"Actual Values:\")\n",
        "print(y_test.values)"
      ],
      "execution_count": 66,
      "outputs": [
        {
          "output_type": "stream",
          "name": "stdout",
          "text": [
            "Actual Values:\n",
            "[0 0 0 1 0 0 1]\n"
          ]
        }
      ]
    },
    {
      "cell_type": "code",
      "metadata": {
        "id": "RcgrIh57mYFU"
      },
      "source": [
        "# Printing the Accuracy"
      ],
      "execution_count": null,
      "outputs": []
    },
    {
      "cell_type": "code",
      "metadata": {
        "colab": {
          "base_uri": "https://localhost:8080/"
        },
        "id": "nD0LiJ9GlS0s",
        "outputId": "94e5393f-b889-4889-866a-e60f35f69700"
      },
      "source": [
        "from sklearn.metrics import accuracy_score,recall_score,roc_auc_score,confusion_matrix\n",
        "print(\"\\naccuracy score:%f\"%(accuracy_score(y_test,y_pred)*100))\n",
        "print(\"recall score:%f\"%(recall_score(y_test,y_pred)*100))\n",
        "print(\"roc score:%f\"%(roc_auc_score(y_test,y_pred)*100))\n",
        "print(confusion_matrix(y_test,y_pred))"
      ],
      "execution_count": 67,
      "outputs": [
        {
          "output_type": "stream",
          "name": "stdout",
          "text": [
            "\n",
            "accuracy score:85.714286\n",
            "recall score:100.000000\n",
            "roc score:90.000000\n",
            "[[4 1]\n",
            " [0 2]]\n"
          ]
        }
      ]
    },
    {
      "cell_type": "code",
      "metadata": {
        "id": "y9iel2xelXDS"
      },
      "source": [
        "# Random Forest Classifier to predict"
      ],
      "execution_count": null,
      "outputs": []
    },
    {
      "cell_type": "code",
      "metadata": {
        "colab": {
          "base_uri": "https://localhost:8080/"
        },
        "id": "hfJ72np-ldbv",
        "outputId": "3cb0e17a-c3e7-4dee-9597-9afb33fb180c"
      },
      "source": [
        "from sklearn.ensemble import RandomForestClassifier\n",
        "rmf=RandomForestClassifier(max_depth=3,random_state=0)\n",
        "rmf_clf=rmf.fit(x_train,y_train)\n",
        "rmf_clf"
      ],
      "execution_count": 68,
      "outputs": [
        {
          "output_type": "execute_result",
          "data": {
            "text/plain": [
              "RandomForestClassifier(bootstrap=True, ccp_alpha=0.0, class_weight=None,\n",
              "                       criterion='gini', max_depth=3, max_features='auto',\n",
              "                       max_leaf_nodes=None, max_samples=None,\n",
              "                       min_impurity_decrease=0.0, min_impurity_split=None,\n",
              "                       min_samples_leaf=1, min_samples_split=2,\n",
              "                       min_weight_fraction_leaf=0.0, n_estimators=100,\n",
              "                       n_jobs=None, oob_score=False, random_state=0, verbose=0,\n",
              "                       warm_start=False)"
            ]
          },
          "metadata": {},
          "execution_count": 68
        }
      ]
    },
    {
      "cell_type": "code",
      "metadata": {
        "id": "ZhUnZ4p8liSc"
      },
      "source": [
        "rmf_clf_acc=cross_val_score(rmf_clf,x_train_std,y_train,cv=3,scoring=\"accuracy\",n_jobs=-1)\n",
        "rmf_proba=cross_val_predict(rmf_clf,x_train_std,y_train,cv=3,method='predict_proba')"
      ],
      "execution_count": 69,
      "outputs": []
    },
    {
      "cell_type": "code",
      "metadata": {
        "colab": {
          "base_uri": "https://localhost:8080/"
        },
        "id": "5iAi-rVYloxO",
        "outputId": "c7cf410f-12f3-455c-caec-7f4c274797b2"
      },
      "source": [
        "rmf_clf_acc"
      ],
      "execution_count": 70,
      "outputs": [
        {
          "output_type": "execute_result",
          "data": {
            "text/plain": [
              "array([1.        , 0.77777778, 0.875     ])"
            ]
          },
          "metadata": {},
          "execution_count": 70
        }
      ]
    },
    {
      "cell_type": "code",
      "metadata": {
        "colab": {
          "base_uri": "https://localhost:8080/"
        },
        "id": "8Jwn0IyjlvSM",
        "outputId": "6e345a63-f0f4-4e66-80a0-fb77cc10a578"
      },
      "source": [
        "rmf_proba"
      ],
      "execution_count": 71,
      "outputs": [
        {
          "output_type": "execute_result",
          "data": {
            "text/plain": [
              "array([[0.492     , 0.508     ],\n",
              "       [0.833     , 0.167     ],\n",
              "       [0.64966667, 0.35033333],\n",
              "       [0.23033333, 0.76966667],\n",
              "       [0.34833333, 0.65166667],\n",
              "       [0.52      , 0.48      ],\n",
              "       [0.17833333, 0.82166667],\n",
              "       [0.37166667, 0.62833333],\n",
              "       [0.31618182, 0.68381818],\n",
              "       [0.51666667, 0.48333333],\n",
              "       [0.59746753, 0.40253247],\n",
              "       [0.48880087, 0.51119913],\n",
              "       [0.2153842 , 0.7846158 ],\n",
              "       [0.25386905, 0.74613095],\n",
              "       [0.873     , 0.127     ],\n",
              "       [0.65      , 0.35      ],\n",
              "       [0.49280087, 0.50719913],\n",
              "       [0.38340404, 0.61659596],\n",
              "       [0.71666667, 0.28333333],\n",
              "       [0.09011111, 0.90988889],\n",
              "       [0.80222222, 0.19777778],\n",
              "       [0.12040404, 0.87959596],\n",
              "       [0.58407071, 0.41592929],\n",
              "       [0.32211111, 0.67788889],\n",
              "       [0.76527778, 0.23472222],\n",
              "       [0.40822222, 0.59177778]])"
            ]
          },
          "metadata": {},
          "execution_count": 71
        }
      ]
    },
    {
      "cell_type": "code",
      "metadata": {
        "id": "SngNb-0pmLzs"
      },
      "source": [
        ""
      ],
      "execution_count": null,
      "outputs": []
    },
    {
      "cell_type": "code",
      "metadata": {
        "colab": {
          "base_uri": "https://localhost:8080/"
        },
        "id": "7MuRe7Dkl0Es",
        "outputId": "cb465a1e-64e2-4873-b18f-05860090c790"
      },
      "source": [
        "from sklearn.metrics import accuracy_score,recall_score,roc_auc_score,confusion_matrix\n",
        "print(\"\\naccuracy score:%f\"%(accuracy_score(y_test,y_pred)*100))\n",
        "print(\"recall score:%f\"%(recall_score(y_test,y_pred)*100))\n",
        "print(\"roc score:%f\"%(roc_auc_score(y_test,y_pred)*100))\n",
        "print(confusion_matrix(y_test,y_pred))"
      ],
      "execution_count": 72,
      "outputs": [
        {
          "output_type": "stream",
          "name": "stdout",
          "text": [
            "\n",
            "accuracy score:85.714286\n",
            "recall score:100.000000\n",
            "roc score:90.000000\n",
            "[[4 1]\n",
            " [0 2]]\n"
          ]
        }
      ]
    },
    {
      "cell_type": "code",
      "metadata": {
        "id": "FtWqBOqtl8E0"
      },
      "source": [
        "# Final Accuracy of our Models"
      ],
      "execution_count": null,
      "outputs": []
    },
    {
      "cell_type": "code",
      "metadata": {
        "id": "wIezKNqGmqXE"
      },
      "source": [
        "# Comparing all the prediction models"
      ],
      "execution_count": null,
      "outputs": []
    },
    {
      "cell_type": "code",
      "metadata": {
        "colab": {
          "base_uri": "https://localhost:8080/",
          "height": 206
        },
        "id": "WR4T53X4mui7",
        "outputId": "e95073db-c9be-4b15-c706-3c64e5c31080"
      },
      "source": [
        "models = []\n",
        "from sklearn.neighbors import KNeighborsClassifier\n",
        "from sklearn.svm import SVC\n",
        "from sklearn.linear_model import LogisticRegression\n",
        "from sklearn.tree import DecisionTreeClassifier\n",
        "from sklearn.naive_bayes import GaussianNB\n",
        "from sklearn.ensemble import RandomForestClassifier\n",
        "from sklearn.ensemble import GradientBoostingClassifier\n",
        "models.append(('KNN', KNeighborsClassifier()))\n",
        "models.append(('LR', LogisticRegression()))\n",
        "models.append(('SVC', SVC()))\n",
        "models.append(('DT', DecisionTreeClassifier()))\n",
        "models.append(('RF', RandomForestClassifier()))\n",
        "\n",
        "names = []\n",
        "scores = []\n",
        "for name, model in models:\n",
        "    model.fit(x_train, y_train)\n",
        "    y_pred = model.predict(x_test)\n",
        "    scores.append(accuracy_score(y_test, y_pred))\n",
        "    names.append(name)\n",
        "tr_split = pd.DataFrame({'Name': names, 'Score': scores})\n",
        "tr_split"
      ],
      "execution_count": 73,
      "outputs": [
        {
          "output_type": "execute_result",
          "data": {
            "text/html": [
              "<div>\n",
              "<style scoped>\n",
              "    .dataframe tbody tr th:only-of-type {\n",
              "        vertical-align: middle;\n",
              "    }\n",
              "\n",
              "    .dataframe tbody tr th {\n",
              "        vertical-align: top;\n",
              "    }\n",
              "\n",
              "    .dataframe thead th {\n",
              "        text-align: right;\n",
              "    }\n",
              "</style>\n",
              "<table border=\"1\" class=\"dataframe\">\n",
              "  <thead>\n",
              "    <tr style=\"text-align: right;\">\n",
              "      <th></th>\n",
              "      <th>Name</th>\n",
              "      <th>Score</th>\n",
              "    </tr>\n",
              "  </thead>\n",
              "  <tbody>\n",
              "    <tr>\n",
              "      <th>0</th>\n",
              "      <td>KNN</td>\n",
              "      <td>0.714286</td>\n",
              "    </tr>\n",
              "    <tr>\n",
              "      <th>1</th>\n",
              "      <td>LR</td>\n",
              "      <td>0.428571</td>\n",
              "    </tr>\n",
              "    <tr>\n",
              "      <th>2</th>\n",
              "      <td>SVC</td>\n",
              "      <td>0.285714</td>\n",
              "    </tr>\n",
              "    <tr>\n",
              "      <th>3</th>\n",
              "      <td>DT</td>\n",
              "      <td>0.857143</td>\n",
              "    </tr>\n",
              "    <tr>\n",
              "      <th>4</th>\n",
              "      <td>RF</td>\n",
              "      <td>0.571429</td>\n",
              "    </tr>\n",
              "  </tbody>\n",
              "</table>\n",
              "</div>"
            ],
            "text/plain": [
              "  Name     Score\n",
              "0  KNN  0.714286\n",
              "1   LR  0.428571\n",
              "2  SVC  0.285714\n",
              "3   DT  0.857143\n",
              "4   RF  0.571429"
            ]
          },
          "metadata": {},
          "execution_count": 73
        }
      ]
    },
    {
      "cell_type": "code",
      "metadata": {
        "colab": {
          "base_uri": "https://localhost:8080/",
          "height": 283
        },
        "id": "Cgsh6S5Lm95T",
        "outputId": "6e4c0523-7928-473e-cbaf-56a8b7bc33c8"
      },
      "source": [
        "import seaborn as sns\n",
        "axis = sns.barplot(x = 'Name', y = 'Score', data =tr_split )\n",
        "axis.set(xlabel='Classifier Models', ylabel='Accuracy of the Model')\n",
        "for p in axis.patches:\n",
        "    height = p.get_height()\n",
        "    axis.text(p.get_x() + p.get_width()/2, height + 0.01, '{:1.4f}'.format(height), ha=\"center\") \n",
        "    \n",
        "plt.show()"
      ],
      "execution_count": 74,
      "outputs": [
        {
          "output_type": "display_data",
          "data": {
            "image/png": "[encoded data removed]",
            "text/plain": [
              "<Figure size 432x288 with 1 Axes>"
            ]
          },
          "metadata": {
            "needs_background": "light"
          }
        }
      ]
    },
    {
      "cell_type": "code",
      "metadata": {
        "colab": {
          "base_uri": "https://localhost:8080/"
        },
        "id": "IXPQOv4_nMfD",
        "outputId": "26f728c0-b525-4daf-edca-c438ae310329"
      },
      "source": [
        "tr_split['Score'].max() "
      ],
      "execution_count": 75,
      "outputs": [
        {
          "output_type": "execute_result",
          "data": {
            "text/plain": [
              "0.8571428571428571"
            ]
          },
          "metadata": {},
          "execution_count": 75
        }
      ]
    }
  ]
}